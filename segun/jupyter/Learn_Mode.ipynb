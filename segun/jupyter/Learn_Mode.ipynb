{
 "cells": [
  {
   "cell_type": "code",
   "execution_count": 17,
   "id": "dbeee4a5",
   "metadata": {},
   "outputs": [],
   "source": [
    "#!pip install pymysql"
   ]
  },
  {
   "cell_type": "code",
   "execution_count": 20,
   "id": "5c87e0df",
   "metadata": {},
   "outputs": [
    {
     "name": "stdout",
     "output_type": "stream",
     "text": [
      "INSERT INTO `users` (username, name, age, nation) VALUES (\"Segun\", \"Asani\", \"35\", \"Nigeria\")\n"
     ]
    }
   ],
   "source": [
    "import pymysql.cursors\n",
    "\n",
    "# Connect to the database\n",
    "connection = pymysql.connect(host='localhost',\n",
    "                             user='root',\n",
    "                             password='',\n",
    "                             database='test',\n",
    "                             cursorclass=pymysql.cursors.DictCursor)\n",
    "\n",
    "with connection:\n",
    "    with connection.cursor() as cursor:\n",
    "        \n",
    "        username = \"Segun\"\n",
    "        name = \"Asani\"\n",
    "        age = 35\n",
    "        nation = \"Nigeria\" \n",
    "        \n",
    "        # Create a new record\n",
    "        sql = f'INSERT INTO `users` (username, name, age, nation) VALUES (\"{username}\", \"{name}\", \"{age}\", \"{nation}\")'\n",
    "        print(sql)\n",
    "        cursor.execute(sql)\n",
    "\n",
    "    # connection is not autocommit by default. So you must commit to save\n",
    "    # your changes.\n",
    "    connection.commit()"
   ]
  },
  {
   "cell_type": "code",
   "execution_count": 25,
   "id": "b8564004",
   "metadata": {},
   "outputs": [
    {
     "name": "stdout",
     "output_type": "stream",
     "text": [
      "[{'username': 'john1'}, {'username': 'ahmed'}, {'username': 'millman'}, {'username': 'Segun'}]\n"
     ]
    }
   ],
   "source": [
    "import pymysql.cursors\n",
    "\n",
    "# Connect to the database\n",
    "connection = pymysql.connect(host='localhost',\n",
    "                             user='root',\n",
    "                             password='',\n",
    "                             database='test',\n",
    "                             cursorclass=pymysql.cursors.DictCursor)\n",
    "\n",
    "with connection:\n",
    "    with connection.cursor() as cursor:\n",
    "        #Read a single record\n",
    "       \n",
    "        sql = \"SELECT username FROM users\"\n",
    "#         print(sql)\n",
    "        cursor.execute(sql)\n",
    "       # result = cursor.fetchone()\n",
    "        result = cursor.fetchmany(4)\n",
    "        print(result)"
   ]
  },
  {
   "cell_type": "code",
   "execution_count": 40,
   "id": "37c7dd5a",
   "metadata": {},
   "outputs": [
    {
     "name": "stdout",
     "output_type": "stream",
     "text": [
      "Requirement already satisfied: pandas in c:\\users\\segun\\appdata\\local\\programs\\python\\python37-32\\lib\\site-packages (1.2.4)\n",
      "Requirement already satisfied: numpy>=1.16.5 in c:\\users\\segun\\appdata\\local\\programs\\python\\python37-32\\lib\\site-packages (from pandas) (1.20.2)\n",
      "Requirement already satisfied: pytz>=2017.3 in c:\\users\\segun\\appdata\\local\\programs\\python\\python37-32\\lib\\site-packages (from pandas) (2021.1)\n",
      "Requirement already satisfied: python-dateutil>=2.7.3 in c:\\users\\segun\\appdata\\local\\programs\\python\\python37-32\\lib\\site-packages (from pandas) (2.8.1)\n",
      "Requirement already satisfied: six>=1.5 in c:\\users\\segun\\appdata\\local\\programs\\python\\python37-32\\lib\\site-packages (from python-dateutil>=2.7.3->pandas) (1.15.0)\n"
     ]
    },
    {
     "name": "stderr",
     "output_type": "stream",
     "text": [
      "WARNING: You are using pip version 20.1.1; however, version 21.1.2 is available.\n",
      "You should consider upgrading via the 'c:\\users\\segun\\appdata\\local\\programs\\python\\python37-32\\python.exe -m pip install --upgrade pip' command.\n"
     ]
    }
   ],
   "source": [
    "!pip install pandas"
   ]
  },
  {
   "cell_type": "code",
   "execution_count": 42,
   "id": "651b841b",
   "metadata": {},
   "outputs": [],
   "source": [
    "import pandas as pd\n",
    "data = pd.read_csv(r\"C:\\Users\\Segun\\Desktop\\cohort4b1wknd\\materials\\statement2.csv\")"
   ]
  },
  {
   "cell_type": "code",
   "execution_count": 44,
   "id": "91f11db7",
   "metadata": {
    "scrolled": true
   },
   "outputs": [
    {
     "data": {
      "text/html": [
       "<div>\n",
       "<style scoped>\n",
       "    .dataframe tbody tr th:only-of-type {\n",
       "        vertical-align: middle;\n",
       "    }\n",
       "\n",
       "    .dataframe tbody tr th {\n",
       "        vertical-align: top;\n",
       "    }\n",
       "\n",
       "    .dataframe thead th {\n",
       "        text-align: right;\n",
       "    }\n",
       "</style>\n",
       "<table border=\"1\" class=\"dataframe\">\n",
       "  <thead>\n",
       "    <tr style=\"text-align: right;\">\n",
       "      <th></th>\n",
       "      <th>Txn Date</th>\n",
       "      <th>Date</th>\n",
       "      <th>Ref No</th>\n",
       "      <th>Withdrawls</th>\n",
       "      <th>Lodgements</th>\n",
       "      <th>Balance</th>\n",
       "      <th>Description</th>\n",
       "      <th>Unnamed: 7</th>\n",
       "      <th>Unnamed: 8</th>\n",
       "    </tr>\n",
       "  </thead>\n",
       "  <tbody>\n",
       "    <tr>\n",
       "      <th>0</th>\n",
       "      <td>NaN</td>\n",
       "      <td>NaN</td>\n",
       "      <td>NaN</td>\n",
       "      <td>0.00</td>\n",
       "      <td>0.0</td>\n",
       "      <td>989693.06</td>\n",
       "      <td>Balance Brought Forward</td>\n",
       "      <td>NaN</td>\n",
       "      <td>NaN</td>\n",
       "    </tr>\n",
       "    <tr>\n",
       "      <th>1</th>\n",
       "      <td>31/03/2021</td>\n",
       "      <td>01/04/2021</td>\n",
       "      <td>071ICEDNGN 00001</td>\n",
       "      <td>3.43</td>\n",
       "      <td>0.0</td>\n",
       "      <td>989689.63</td>\n",
       "      <td>DEBIT INTEREST  CAPITALIZATION</td>\n",
       "      <td>NaN</td>\n",
       "      <td>NaN</td>\n",
       "    </tr>\n",
       "    <tr>\n",
       "      <th>2</th>\n",
       "      <td>01/04/2021</td>\n",
       "      <td>01/04/2021</td>\n",
       "      <td>099MJKL210915zGn</td>\n",
       "      <td>500.00</td>\n",
       "      <td>0.0</td>\n",
       "      <td>989189.63</td>\n",
       "      <td>901Airtime- 2348031346306</td>\n",
       "      <td>NaN</td>\n",
       "      <td>NaN</td>\n",
       "    </tr>\n",
       "    <tr>\n",
       "      <th>3</th>\n",
       "      <td>01/04/2021</td>\n",
       "      <td>01/04/2021</td>\n",
       "      <td>099MNIP210913g7i</td>\n",
       "      <td>0.00</td>\n",
       "      <td>132600.0</td>\n",
       "      <td>1121789.63</td>\n",
       "      <td>UNIVEL CITY ENTERPRISES/March consultancy fees</td>\n",
       "      <td>NaN</td>\n",
       "      <td>NaN</td>\n",
       "    </tr>\n",
       "    <tr>\n",
       "      <th>4</th>\n",
       "      <td>01/04/2021</td>\n",
       "      <td>01/04/2021</td>\n",
       "      <td>099MJKL21091AlBH</td>\n",
       "      <td>100.00</td>\n",
       "      <td>0.0</td>\n",
       "      <td>1121689.63</td>\n",
       "      <td>901Airtime- 2348031346306</td>\n",
       "      <td>NaN</td>\n",
       "      <td>NaN</td>\n",
       "    </tr>\n",
       "    <tr>\n",
       "      <th>...</th>\n",
       "      <td>...</td>\n",
       "      <td>...</td>\n",
       "      <td>...</td>\n",
       "      <td>...</td>\n",
       "      <td>...</td>\n",
       "      <td>...</td>\n",
       "      <td>...</td>\n",
       "      <td>...</td>\n",
       "      <td>...</td>\n",
       "    </tr>\n",
       "    <tr>\n",
       "      <th>79</th>\n",
       "      <td>23/04/2021</td>\n",
       "      <td>23/04/2021</td>\n",
       "      <td>099MNIP211130d0Z</td>\n",
       "      <td>0.00</td>\n",
       "      <td>50000.0</td>\n",
       "      <td>955244.15</td>\n",
       "      <td>etim John/FT IFO etim BO etim K</td>\n",
       "      <td>NaN</td>\n",
       "      <td>NaN</td>\n",
       "    </tr>\n",
       "    <tr>\n",
       "      <th>80</th>\n",
       "      <td>23/04/2021</td>\n",
       "      <td>23/04/2021</td>\n",
       "      <td>099MJKL211132hdR</td>\n",
       "      <td>10026.88</td>\n",
       "      <td>0.0</td>\n",
       "      <td>945217.27</td>\n",
       "      <td>TRF/Refund/FRM John  etim TO ISONG</td>\n",
       "      <td>NaN</td>\n",
       "      <td>NaN</td>\n",
       "    </tr>\n",
       "    <tr>\n",
       "      <th>81</th>\n",
       "      <td>23/04/2021</td>\n",
       "      <td>23/04/2021</td>\n",
       "      <td>099MJKL211132lwd</td>\n",
       "      <td>10026.88</td>\n",
       "      <td>0.0</td>\n",
       "      <td>935190.39</td>\n",
       "      <td>TRF/Upkeep/FRM John  etim TO</td>\n",
       "      <td>NaN</td>\n",
       "      <td>NaN</td>\n",
       "    </tr>\n",
       "    <tr>\n",
       "      <th>82</th>\n",
       "      <td>23/04/2021</td>\n",
       "      <td>23/04/2021</td>\n",
       "      <td>099MJKL211134GVZ</td>\n",
       "      <td>30026.88</td>\n",
       "      <td>0.0</td>\n",
       "      <td>905163.51</td>\n",
       "      <td>TRF/Contribution/FRM John  etim TO</td>\n",
       "      <td>NaN</td>\n",
       "      <td>NaN</td>\n",
       "    </tr>\n",
       "    <tr>\n",
       "      <th>83</th>\n",
       "      <td>23/04/2021</td>\n",
       "      <td>23/04/2021</td>\n",
       "      <td>099MNIP211133U7o</td>\n",
       "      <td>0.00</td>\n",
       "      <td>40000.0</td>\n",
       "      <td>945163.51</td>\n",
       "      <td>WILLIAMS  OLAOLU OLUFEMIWILLIAMS OLAOLU</td>\n",
       "      <td>NaN</td>\n",
       "      <td>NaN</td>\n",
       "    </tr>\n",
       "  </tbody>\n",
       "</table>\n",
       "<p>84 rows × 9 columns</p>\n",
       "</div>"
      ],
      "text/plain": [
       "      Txn Date        Date            Ref No  Withdrawls  Lodgements  \\\n",
       "0          NaN         NaN               NaN        0.00         0.0   \n",
       "1   31/03/2021  01/04/2021  071ICEDNGN 00001        3.43         0.0   \n",
       "2   01/04/2021  01/04/2021  099MJKL210915zGn      500.00         0.0   \n",
       "3   01/04/2021  01/04/2021  099MNIP210913g7i        0.00    132600.0   \n",
       "4   01/04/2021  01/04/2021  099MJKL21091AlBH      100.00         0.0   \n",
       "..         ...         ...               ...         ...         ...   \n",
       "79  23/04/2021  23/04/2021  099MNIP211130d0Z        0.00     50000.0   \n",
       "80  23/04/2021  23/04/2021  099MJKL211132hdR    10026.88         0.0   \n",
       "81  23/04/2021  23/04/2021  099MJKL211132lwd    10026.88         0.0   \n",
       "82  23/04/2021  23/04/2021  099MJKL211134GVZ    30026.88         0.0   \n",
       "83  23/04/2021  23/04/2021  099MNIP211133U7o        0.00     40000.0   \n",
       "\n",
       "       Balance                                     Description  Unnamed: 7  \\\n",
       "0    989693.06                         Balance Brought Forward         NaN   \n",
       "1    989689.63                  DEBIT INTEREST  CAPITALIZATION         NaN   \n",
       "2    989189.63                      901Airtime- 2348031346306          NaN   \n",
       "3   1121789.63  UNIVEL CITY ENTERPRISES/March consultancy fees         NaN   \n",
       "4   1121689.63                      901Airtime- 2348031346306          NaN   \n",
       "..         ...                                             ...         ...   \n",
       "79   955244.15                 etim John/FT IFO etim BO etim K         NaN   \n",
       "80   945217.27             TRF/Refund/FRM John  etim TO ISONG          NaN   \n",
       "81   935190.39                  TRF/Upkeep/FRM John  etim TO           NaN   \n",
       "82   905163.51            TRF/Contribution/FRM John  etim TO           NaN   \n",
       "83   945163.51        WILLIAMS  OLAOLU OLUFEMIWILLIAMS OLAOLU          NaN   \n",
       "\n",
       "    Unnamed: 8  \n",
       "0          NaN  \n",
       "1          NaN  \n",
       "2          NaN  \n",
       "3          NaN  \n",
       "4          NaN  \n",
       "..         ...  \n",
       "79         NaN  \n",
       "80         NaN  \n",
       "81         NaN  \n",
       "82         NaN  \n",
       "83         NaN  \n",
       "\n",
       "[84 rows x 9 columns]"
      ]
     },
     "execution_count": 44,
     "metadata": {},
     "output_type": "execute_result"
    }
   ],
   "source": [
    "data"
   ]
  },
  {
   "cell_type": "code",
   "execution_count": 46,
   "id": "b1b2eb8c",
   "metadata": {},
   "outputs": [
    {
     "data": {
      "text/html": [
       "<div>\n",
       "<style scoped>\n",
       "    .dataframe tbody tr th:only-of-type {\n",
       "        vertical-align: middle;\n",
       "    }\n",
       "\n",
       "    .dataframe tbody tr th {\n",
       "        vertical-align: top;\n",
       "    }\n",
       "\n",
       "    .dataframe thead th {\n",
       "        text-align: right;\n",
       "    }\n",
       "</style>\n",
       "<table border=\"1\" class=\"dataframe\">\n",
       "  <thead>\n",
       "    <tr style=\"text-align: right;\">\n",
       "      <th></th>\n",
       "      <th>Withdrawls</th>\n",
       "      <th>Lodgements</th>\n",
       "      <th>Balance</th>\n",
       "      <th>Unnamed: 7</th>\n",
       "      <th>Unnamed: 8</th>\n",
       "    </tr>\n",
       "  </thead>\n",
       "  <tbody>\n",
       "    <tr>\n",
       "      <th>count</th>\n",
       "      <td>84.000000</td>\n",
       "      <td>84.000000</td>\n",
       "      <td>8.400000e+01</td>\n",
       "      <td>0.0</td>\n",
       "      <td>0.0</td>\n",
       "    </tr>\n",
       "    <tr>\n",
       "      <th>mean</th>\n",
       "      <td>9484.005119</td>\n",
       "      <td>8953.891429</td>\n",
       "      <td>9.641454e+05</td>\n",
       "      <td>NaN</td>\n",
       "      <td>NaN</td>\n",
       "    </tr>\n",
       "    <tr>\n",
       "      <th>std</th>\n",
       "      <td>19613.207998</td>\n",
       "      <td>24528.794149</td>\n",
       "      <td>5.572199e+04</td>\n",
       "      <td>NaN</td>\n",
       "      <td>NaN</td>\n",
       "    </tr>\n",
       "    <tr>\n",
       "      <th>min</th>\n",
       "      <td>0.000000</td>\n",
       "      <td>0.000000</td>\n",
       "      <td>9.051635e+05</td>\n",
       "      <td>NaN</td>\n",
       "      <td>NaN</td>\n",
       "    </tr>\n",
       "    <tr>\n",
       "      <th>25%</th>\n",
       "      <td>40.875000</td>\n",
       "      <td>0.000000</td>\n",
       "      <td>9.196711e+05</td>\n",
       "      <td>NaN</td>\n",
       "      <td>NaN</td>\n",
       "    </tr>\n",
       "    <tr>\n",
       "      <th>50%</th>\n",
       "      <td>1010.750000</td>\n",
       "      <td>0.000000</td>\n",
       "      <td>9.482382e+05</td>\n",
       "      <td>NaN</td>\n",
       "      <td>NaN</td>\n",
       "    </tr>\n",
       "    <tr>\n",
       "      <th>75%</th>\n",
       "      <td>10026.880000</td>\n",
       "      <td>0.000000</td>\n",
       "      <td>9.930072e+05</td>\n",
       "      <td>NaN</td>\n",
       "      <td>NaN</td>\n",
       "    </tr>\n",
       "    <tr>\n",
       "      <th>max</th>\n",
       "      <td>100053.750000</td>\n",
       "      <td>132600.000000</td>\n",
       "      <td>1.121790e+06</td>\n",
       "      <td>NaN</td>\n",
       "      <td>NaN</td>\n",
       "    </tr>\n",
       "  </tbody>\n",
       "</table>\n",
       "</div>"
      ],
      "text/plain": [
       "          Withdrawls     Lodgements       Balance  Unnamed: 7  Unnamed: 8\n",
       "count      84.000000      84.000000  8.400000e+01         0.0         0.0\n",
       "mean     9484.005119    8953.891429  9.641454e+05         NaN         NaN\n",
       "std     19613.207998   24528.794149  5.572199e+04         NaN         NaN\n",
       "min         0.000000       0.000000  9.051635e+05         NaN         NaN\n",
       "25%        40.875000       0.000000  9.196711e+05         NaN         NaN\n",
       "50%      1010.750000       0.000000  9.482382e+05         NaN         NaN\n",
       "75%     10026.880000       0.000000  9.930072e+05         NaN         NaN\n",
       "max    100053.750000  132600.000000  1.121790e+06         NaN         NaN"
      ]
     },
     "execution_count": 46,
     "metadata": {},
     "output_type": "execute_result"
    }
   ],
   "source": [
    "data.describe()"
   ]
  },
  {
   "cell_type": "code",
   "execution_count": 47,
   "id": "1a92983b",
   "metadata": {},
   "outputs": [],
   "source": [
    "summary = data.describe()\n",
    "summary.to_csv(r\"C:\\Users\\Segun\\Desktop\\cohort4b1wknd\\materials\\statement2.csv\")"
   ]
  },
  {
   "cell_type": "code",
   "execution_count": 50,
   "id": "2f21bff4",
   "metadata": {},
   "outputs": [
    {
     "name": "stderr",
     "output_type": "stream",
     "text": [
      "c:\\users\\segun\\appdata\\local\\programs\\python\\python37-32\\lib\\site-packages\\ipykernel_launcher.py:2: FutureWarning: As the xlwt package is no longer maintained, the xlwt engine will be removed in a future version of pandas. This is the only engine in pandas that supports writing in the xls format. Install openpyxl and write to an xlsx file instead. You can set the option io.excel.xls.writer to 'xlwt' to silence this warning. While this option is deprecated and will also raise a warning, it can be globally set and the warning suppressed.\n",
      "  \n"
     ]
    }
   ],
   "source": [
    "summary = data.describe()\n",
    "summary.to_excel(r\"C:\\Users\\Segun\\Desktop\\cohort4b1wknd\\materials\\statement2.xls\")"
   ]
  },
  {
   "cell_type": "code",
   "execution_count": 49,
   "id": "a5d54e8d",
   "metadata": {},
   "outputs": [
    {
     "name": "stdout",
     "output_type": "stream",
     "text": [
      "Collecting xlwt"
     ]
    },
    {
     "name": "stderr",
     "output_type": "stream",
     "text": [
      "WARNING: You are using pip version 20.1.1; however, version 21.1.2 is available.\n",
      "You should consider upgrading via the 'c:\\users\\segun\\appdata\\local\\programs\\python\\python37-32\\python.exe -m pip install --upgrade pip' command.\n"
     ]
    },
    {
     "name": "stdout",
     "output_type": "stream",
     "text": [
      "\n",
      "  Downloading xlwt-1.3.0-py2.py3-none-any.whl (99 kB)\n",
      "Installing collected packages: xlwt\n",
      "Successfully installed xlwt-1.3.0\n"
     ]
    }
   ],
   "source": [
    "!pip install xlwt"
   ]
  },
  {
   "cell_type": "code",
   "execution_count": null,
   "id": "29791bce",
   "metadata": {},
   "outputs": [],
   "source": []
  }
 ],
 "metadata": {
  "kernelspec": {
   "display_name": "Python 3",
   "language": "python",
   "name": "python3"
  },
  "language_info": {
   "codemirror_mode": {
    "name": "ipython",
    "version": 3
   },
   "file_extension": ".py",
   "mimetype": "text/x-python",
   "name": "python",
   "nbconvert_exporter": "python",
   "pygments_lexer": "ipython3",
   "version": "3.7.9"
  }
 },
 "nbformat": 4,
 "nbformat_minor": 5
}
