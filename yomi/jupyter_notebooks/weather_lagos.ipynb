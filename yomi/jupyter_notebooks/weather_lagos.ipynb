{
 "cells": [
  {
   "cell_type": "code",
   "execution_count": 39,
   "id": "c8a90e39",
   "metadata": {},
   "outputs": [],
   "source": [
    "import requests"
   ]
  },
  {
   "cell_type": "code",
   "execution_count": 40,
   "id": "08ec162b",
   "metadata": {},
   "outputs": [],
   "source": [
    "city_id = \"2332453\"\n",
    "url = \"https://api.openweathermap.org/data/2.5/forecast?id=\" + city_id + \"&APPID=7d740708090dd65a4ddd2db1f445504e\""
   ]
  },
  {
   "cell_type": "code",
   "execution_count": 41,
   "id": "3aa223d4",
   "metadata": {},
   "outputs": [
    {
     "data": {
      "text/plain": [
       "<Response [200]>"
      ]
     },
     "execution_count": 41,
     "metadata": {},
     "output_type": "execute_result"
    }
   ],
   "source": [
    "requests.get(url)"
   ]
  },
  {
   "cell_type": "code",
   "execution_count": 42,
   "id": "41564e2b",
   "metadata": {},
   "outputs": [],
   "source": [
    "response = requests.get(url)"
   ]
  },
  {
   "cell_type": "code",
   "execution_count": 50,
   "id": "09e56059",
   "metadata": {},
   "outputs": [],
   "source": [
    "data = response.json()"
   ]
  },
  {
   "cell_type": "code",
   "execution_count": 51,
   "id": "dc8303ef",
   "metadata": {},
   "outputs": [
    {
     "data": {
      "text/plain": [
       "dict"
      ]
     },
     "execution_count": 51,
     "metadata": {},
     "output_type": "execute_result"
    }
   ],
   "source": [
    "type(data)"
   ]
  },
  {
   "cell_type": "code",
   "execution_count": 52,
   "id": "82f56845",
   "metadata": {},
   "outputs": [
    {
     "data": {
      "text/plain": [
       "'2021-04-25 00:00:00'"
      ]
     },
     "execution_count": 52,
     "metadata": {},
     "output_type": "execute_result"
    }
   ],
   "source": [
    "n = 3\n",
    "data.get(\"list\")[n].get(\"dt_txt\")"
   ]
  },
  {
   "cell_type": "code",
   "execution_count": 71,
   "id": "0dc2adb7",
   "metadata": {},
   "outputs": [
    {
     "name": "stdout",
     "output_type": "stream",
     "text": [
      "2021-04-24 15:00:00\n",
      "2021-04-24 18:00:00\n",
      "2021-04-24 21:00:00\n",
      "2021-04-25 00:00:00\n",
      "2021-04-25 03:00:00\n",
      "2021-04-25 06:00:00\n",
      "2021-04-25 09:00:00\n",
      "2021-04-25 12:00:00\n",
      "2021-04-25 15:00:00\n",
      "2021-04-25 18:00:00\n",
      "2021-04-25 21:00:00\n",
      "2021-04-26 00:00:00\n",
      "2021-04-26 03:00:00\n",
      "2021-04-26 06:00:00\n",
      "2021-04-26 09:00:00\n",
      "2021-04-26 12:00:00\n",
      "2021-04-26 15:00:00\n",
      "2021-04-26 18:00:00\n",
      "2021-04-26 21:00:00\n",
      "2021-04-27 00:00:00\n",
      "2021-04-27 03:00:00\n",
      "2021-04-27 06:00:00\n",
      "2021-04-27 09:00:00\n",
      "2021-04-27 12:00:00\n",
      "2021-04-27 15:00:00\n",
      "2021-04-27 18:00:00\n",
      "2021-04-27 21:00:00\n",
      "2021-04-28 00:00:00\n",
      "2021-04-28 03:00:00\n",
      "2021-04-28 06:00:00\n",
      "2021-04-28 09:00:00\n",
      "2021-04-28 12:00:00\n",
      "2021-04-28 15:00:00\n",
      "2021-04-28 18:00:00\n",
      "2021-04-28 21:00:00\n",
      "2021-04-29 00:00:00\n",
      "2021-04-29 03:00:00\n",
      "2021-04-29 06:00:00\n",
      "2021-04-29 09:00:00\n",
      "2021-04-29 12:00:00\n"
     ]
    }
   ],
   "source": [
    "n = 0\n",
    "while n < 40:\n",
    "    date = data.get(\"list\")[n].get(\"dt_txt\")\n",
    "    print(date)\n",
    "    n+=1"
   ]
  },
  {
   "cell_type": "code",
   "execution_count": 58,
   "id": "8ff34cc2",
   "metadata": {},
   "outputs": [
    {
     "name": "stdout",
     "output_type": "stream",
     "text": [
      "306.15\n",
      "304.36\n",
      "301.54\n",
      "298.32\n",
      "296.12\n",
      "297.92\n",
      "302.8\n",
      "305.58\n",
      "305.29\n",
      "300.58\n",
      "300.11\n",
      "299.56\n",
      "298.99\n",
      "298.87\n",
      "304.26\n",
      "306.34\n",
      "305.35\n",
      "301.08\n",
      "300.15\n",
      "299.81\n",
      "299.45\n",
      "298.98\n",
      "302.98\n",
      "305.87\n",
      "303.43\n",
      "300.88\n",
      "299.92\n",
      "299.51\n",
      "299.07\n",
      "299.31\n",
      "304.51\n",
      "305.83\n",
      "305.01\n",
      "301.01\n",
      "299.74\n",
      "299.31\n",
      "298.94\n",
      "299.08\n",
      "304.58\n",
      "305.38\n"
     ]
    }
   ],
   "source": [
    "n = 0\n",
    "while n < 40:\n",
    "    temp = data.get(\"list\")[n].get(\"main\").get(\"temp\")\n",
    "    print(temp)\n",
    "    n+=1"
   ]
  },
  {
   "cell_type": "code",
   "execution_count": 59,
   "id": "0cb598e6",
   "metadata": {},
   "outputs": [
    {
     "name": "stdout",
     "output_type": "stream",
     "text": [
      "3.79\n",
      "2.76\n",
      "1.85\n",
      "2.81\n",
      "1.68\n",
      "1.98\n",
      "3.22\n",
      "3.8\n",
      "3.84\n",
      "2.35\n",
      "1.98\n",
      "1.8\n",
      "1.29\n",
      "1.38\n",
      "2.73\n",
      "3.96\n",
      "4.6\n",
      "3.33\n",
      "1.86\n",
      "1.84\n",
      "0.62\n",
      "1.74\n",
      "4.43\n",
      "3.68\n",
      "3.49\n",
      "3.18\n",
      "2.72\n",
      "2.09\n",
      "1.9\n",
      "1.72\n",
      "3.12\n",
      "3.66\n",
      "3.97\n",
      "2.91\n",
      "2.36\n",
      "1.58\n",
      "1.7\n",
      "0.63\n",
      "2.23\n",
      "3.42\n"
     ]
    }
   ],
   "source": [
    "n = 0\n",
    "while n < 40:\n",
    "    speed = data.get(\"list\")[n].get(\"wind\").get(\"speed\")\n",
    "    print(speed)\n",
    "    n+=1"
   ]
  },
  {
   "cell_type": "code",
   "execution_count": 73,
   "id": "3f97d3fd",
   "metadata": {},
   "outputs": [
    {
     "name": "stdout",
     "output_type": "stream",
     "text": [
      "2021-04-24 15:00:00      306.15           3.79                light rain\n",
      "2021-04-24 18:00:00      304.36           2.76                light rain\n",
      "2021-04-24 21:00:00      301.54           1.85                light rain\n",
      "2021-04-25 00:00:00      298.32           2.81                light rain\n",
      "2021-04-25 03:00:00      296.12           1.68                light rain\n",
      "2021-04-25 06:00:00      297.92           1.98           overcast clouds\n",
      "2021-04-25 09:00:00      302.8            3.22           overcast clouds\n",
      "2021-04-25 12:00:00      305.58           3.8            overcast clouds\n",
      "2021-04-25 15:00:00      305.29           3.84             broken clouds\n",
      "2021-04-25 18:00:00      300.58           2.35             broken clouds\n",
      "2021-04-25 21:00:00      300.11           1.98                light rain\n",
      "2021-04-26 00:00:00      299.56           1.8              broken clouds\n",
      "2021-04-26 03:00:00      298.99           1.29                light rain\n",
      "2021-04-26 06:00:00      298.87           1.38                light rain\n",
      "2021-04-26 09:00:00      304.26           2.73                few clouds\n",
      "2021-04-26 12:00:00      306.34           3.96          scattered clouds\n",
      "2021-04-26 15:00:00      305.35           4.6           scattered clouds\n",
      "2021-04-26 18:00:00      301.08           3.33          scattered clouds\n",
      "2021-04-26 21:00:00      300.15           1.86                light rain\n",
      "2021-04-27 00:00:00      299.81           1.84             broken clouds\n",
      "2021-04-27 03:00:00      299.45           0.62           overcast clouds\n",
      "2021-04-27 06:00:00      298.98           1.74                light rain\n",
      "2021-04-27 09:00:00      302.98           4.43           overcast clouds\n",
      "2021-04-27 12:00:00      305.87           3.68           overcast clouds\n",
      "2021-04-27 15:00:00      303.43           3.49           overcast clouds\n",
      "2021-04-27 18:00:00      300.88           3.18           overcast clouds\n",
      "2021-04-27 21:00:00      299.92           2.72          scattered clouds\n",
      "2021-04-28 00:00:00      299.51           2.09                light rain\n",
      "2021-04-28 03:00:00      299.07           1.9            overcast clouds\n",
      "2021-04-28 06:00:00      299.31           1.72           overcast clouds\n",
      "2021-04-28 09:00:00      304.51           3.12             broken clouds\n",
      "2021-04-28 12:00:00      305.83           3.66                light rain\n",
      "2021-04-28 15:00:00      305.01           3.97                light rain\n",
      "2021-04-28 18:00:00      301.01           2.91             broken clouds\n",
      "2021-04-28 21:00:00      299.74           2.36                light rain\n",
      "2021-04-29 00:00:00      299.31           1.58             broken clouds\n",
      "2021-04-29 03:00:00      298.94           1.7            overcast clouds\n",
      "2021-04-29 06:00:00      299.08           0.63           overcast clouds\n",
      "2021-04-29 09:00:00      304.58           2.23           overcast clouds\n",
      "2021-04-29 12:00:00      305.38           3.42           overcast clouds\n"
     ]
    }
   ],
   "source": [
    "n = 0\n",
    "while n < 40:\n",
    "    date = data.get(\"list\")[n].get(\"dt_txt\")\n",
    "    temp = data.get(\"list\")[n].get(\"main\").get(\"temp\")\n",
    "    speed = data.get(\"list\")[n].get(\"wind\").get(\"speed\")\n",
    "    weather = data.get(\"list\")[n].get(\"weather\")[0].get(\"description\")\n",
    "    print(date.center(15), str(temp).center(15), str(speed).center(15), weather.rjust(20))\n",
    "    n+=1"
   ]
  },
  {
   "cell_type": "code",
   "execution_count": 77,
   "id": "103c2809",
   "metadata": {},
   "outputs": [
    {
     "name": "stdout",
     "output_type": "stream",
     "text": [
      "2021-04-24 15:00:00      306.15           3.79                light rain\n",
      "2021-04-24 18:00:00      304.36           2.76                light rain\n",
      "2021-04-24 21:00:00      301.54           1.85                light rain\n",
      "2021-04-25 00:00:00      298.32           2.81                light rain\n",
      "2021-04-25 03:00:00      296.12           1.68                light rain\n",
      "2021-04-25 06:00:00      297.92           1.98           overcast clouds\n",
      "2021-04-25 09:00:00      302.8            3.22           overcast clouds\n",
      "2021-04-25 12:00:00      305.58           3.8            overcast clouds\n",
      "2021-04-25 15:00:00      305.29           3.84             broken clouds\n",
      "2021-04-25 18:00:00      300.58           2.35             broken clouds\n",
      "2021-04-25 21:00:00      300.11           1.98                light rain\n",
      "2021-04-26 00:00:00      299.56           1.8              broken clouds\n",
      "2021-04-26 03:00:00      298.99           1.29                light rain\n",
      "2021-04-26 06:00:00      298.87           1.38                light rain\n",
      "2021-04-26 09:00:00      304.26           2.73                few clouds\n",
      "2021-04-26 12:00:00      306.34           3.96          scattered clouds\n",
      "2021-04-26 15:00:00      305.35           4.6           scattered clouds\n",
      "2021-04-26 18:00:00      301.08           3.33          scattered clouds\n",
      "2021-04-26 21:00:00      300.15           1.86                light rain\n",
      "2021-04-27 00:00:00      299.81           1.84             broken clouds\n",
      "2021-04-27 03:00:00      299.45           0.62           overcast clouds\n",
      "2021-04-27 06:00:00      298.98           1.74                light rain\n",
      "2021-04-27 09:00:00      302.98           4.43           overcast clouds\n",
      "2021-04-27 12:00:00      305.87           3.68           overcast clouds\n",
      "2021-04-27 15:00:00      303.43           3.49           overcast clouds\n",
      "2021-04-27 18:00:00      300.88           3.18           overcast clouds\n",
      "2021-04-27 21:00:00      299.92           2.72          scattered clouds\n",
      "2021-04-28 00:00:00      299.51           2.09                light rain\n",
      "2021-04-28 03:00:00      299.07           1.9            overcast clouds\n",
      "2021-04-28 06:00:00      299.31           1.72           overcast clouds\n",
      "2021-04-28 09:00:00      304.51           3.12             broken clouds\n",
      "2021-04-28 12:00:00      305.83           3.66                light rain\n",
      "2021-04-28 15:00:00      305.01           3.97                light rain\n",
      "2021-04-28 18:00:00      301.01           2.91             broken clouds\n",
      "2021-04-28 21:00:00      299.74           2.36                light rain\n",
      "2021-04-29 00:00:00      299.31           1.58             broken clouds\n",
      "2021-04-29 03:00:00      298.94           1.7            overcast clouds\n",
      "2021-04-29 06:00:00      299.08           0.63           overcast clouds\n",
      "2021-04-29 09:00:00      304.58           2.23           overcast clouds\n",
      "2021-04-29 12:00:00      305.38           3.42           overcast clouds\n"
     ]
    }
   ],
   "source": [
    "file_name = \"weather.csv\"\n",
    "file = open(file_name, \"w\")\n",
    "\n",
    "n = 0\n",
    "length_of_data = len(data.get(\"list\"))\n",
    "\n",
    "while n < length_of_data:\n",
    "    date = data.get(\"list\")[n].get(\"dt_txt\")\n",
    "    temp = data.get(\"list\")[n].get(\"main\").get(\"temp\")\n",
    "    speed = data.get(\"list\")[n].get(\"wind\").get(\"speed\")\n",
    "    weather = data.get(\"list\")[n].get(\"weather\")[0].get(\"description\")\n",
    "    print(date.center(15), str(temp).center(15), str(speed).center(15), weather.rjust(20))\n",
    "    \n",
    "    file.write(f\"{date.center(15)}, {str(temp).center(15)}, {str(speed).center(15)}, {weather.rjust(20)}\\n\")\n",
    "    n+=1\n",
    "    \n",
    "file.close()"
   ]
  },
  {
   "cell_type": "code",
   "execution_count": 75,
   "id": "c7b84336",
   "metadata": {},
   "outputs": [],
   "source": []
  },
  {
   "cell_type": "code",
   "execution_count": null,
   "id": "b6672d2f",
   "metadata": {},
   "outputs": [],
   "source": []
  }
 ],
 "metadata": {
  "kernelspec": {
   "display_name": "Python 3",
   "language": "python",
   "name": "python3"
  },
  "language_info": {
   "codemirror_mode": {
    "name": "ipython",
    "version": 3
   },
   "file_extension": ".py",
   "mimetype": "text/x-python",
   "name": "python",
   "nbconvert_exporter": "python",
   "pygments_lexer": "ipython3",
   "version": "3.9.1"
  }
 },
 "nbformat": 4,
 "nbformat_minor": 5
}
