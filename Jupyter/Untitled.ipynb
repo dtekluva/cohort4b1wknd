{
 "cells": [
  {
   "cell_type": "code",
   "execution_count": 30,
   "id": "bfc452eb",
   "metadata": {},
   "outputs": [
    {
     "name": "stdout",
     "output_type": "stream",
     "text": [
      "2\n"
     ]
    }
   ],
   "source": [
    "print(1+1)"
   ]
  },
  {
   "cell_type": "code",
   "execution_count": 33,
   "id": "19345108",
   "metadata": {},
   "outputs": [
    {
     "name": "stdout",
     "output_type": "stream",
     "text": [
      "11\n"
     ]
    }
   ],
   "source": [
    "print(\"1\" + \"1\")"
   ]
  },
  {
   "cell_type": "code",
   "execution_count": null,
   "id": "e54ec0e0",
   "metadata": {},
   "outputs": [],
   "source": [
    "for i in range(34209299290320):pass"
   ]
  },
  {
   "cell_type": "code",
   "execution_count": null,
   "id": "1b40dc10",
   "metadata": {},
   "outputs": [],
   "source": [
    "!pip install requests"
   ]
  },
  {
   "cell_type": "code",
   "execution_count": 23,
   "id": "3a9581d6",
   "metadata": {},
   "outputs": [],
   "source": [
    "import requests"
   ]
  },
  {
   "cell_type": "code",
   "execution_count": 25,
   "id": "7732ba93",
   "metadata": {},
   "outputs": [],
   "source": [
    "url = 'https://rest.coinapi.io/v1/assets'\n",
    "headers = {'X-CoinAPI-Key' : 'C8DE9DAD-E8AF-4CA1-803D-6AABC7F34381'}\n",
    "response = requests.get(url, headers=headers)"
   ]
  },
  {
   "cell_type": "code",
   "execution_count": null,
   "id": "5c6aece0",
   "metadata": {},
   "outputs": [],
   "source": []
  }
 ],
 "metadata": {
  "kernelspec": {
   "display_name": "Python 3",
   "language": "python",
   "name": "python3"
  },
  "language_info": {
   "codemirror_mode": {
    "name": "ipython",
    "version": 3
   },
   "file_extension": ".py",
   "mimetype": "text/x-python",
   "name": "python",
   "nbconvert_exporter": "python",
   "pygments_lexer": "ipython3",
   "version": "3.7.9"
  }
 },
 "nbformat": 4,
 "nbformat_minor": 5
}