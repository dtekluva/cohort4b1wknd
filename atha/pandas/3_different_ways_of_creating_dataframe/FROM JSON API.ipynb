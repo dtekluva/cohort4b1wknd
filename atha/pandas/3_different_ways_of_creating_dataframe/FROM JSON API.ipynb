{
 "cells": [
  {
   "cell_type": "code",
   "execution_count": 4,
   "metadata": {},
   "outputs": [],
   "source": [
    "import requests\n",
    "\n",
    "api_key = \"336b102582e7d317c464efd5e6ac86aa\"\n",
    "city_id = \"2332453\"\n",
    "\n",
    "url = f\"http://api.openweathermap.org/data/2.5/forecast?id={city_id}&APPID={api_key}\"\n",
    "# url = f\"http://jumia.com\"\n",
    "fetch = requests.get(f\"{url}\")\n",
    "data = fetch.json()"
   ]
  },
  {
   "cell_type": "code",
   "execution_count": 28,
   "metadata": {},
   "outputs": [],
   "source": [
    "data_dict = {\n",
    "    \"time\":[],\n",
    "    \"temp K\":[],\n",
    "    \"temp C\": [],\n",
    "    \"windspeed\": [],\n",
    "    \"weather\" : []\n",
    "}\n",
    "\n",
    "for forcast in data[\"list\"]:\n",
    "    data_dict[\"time\"].append(forcast[\"dt_txt\"])\n",
    "    data_dict[\"temp K\"].append(forcast[\"main\"][\"temp\"])\n",
    "    data_dict[\"temp C\"].append(forcast[\"main\"][\"temp\"]-273)\n",
    "    data_dict[\"windspeed\"].append(forcast[\"wind\"][\"speed\"])\n",
    "    data_dict[\"weather\"].append(forcast[\"weather\"][0][\"description\"])\n",
    "    \n",
    "# data_dict"
   ]
  },
  {
   "cell_type": "code",
   "execution_count": 17,
   "metadata": {},
   "outputs": [],
   "source": [
    "import pandas as pd"
   ]
  },
  {
   "cell_type": "code",
   "execution_count": 20,
   "metadata": {},
   "outputs": [],
   "source": [
    "lagos_weather = pd.DataFrame(data_dict)"
   ]
  },
  {
   "cell_type": "code",
   "execution_count": 23,
   "metadata": {},
   "outputs": [],
   "source": [
    "min_temp = lagos_weather[\"temp C\"].min()"
   ]
  },
  {
   "cell_type": "code",
   "execution_count": 25,
   "metadata": {},
   "outputs": [
    {
     "data": {
      "text/html": [
       "<div>\n",
       "<style scoped>\n",
       "    .dataframe tbody tr th:only-of-type {\n",
       "        vertical-align: middle;\n",
       "    }\n",
       "\n",
       "    .dataframe tbody tr th {\n",
       "        vertical-align: top;\n",
       "    }\n",
       "\n",
       "    .dataframe thead th {\n",
       "        text-align: right;\n",
       "    }\n",
       "</style>\n",
       "<table border=\"1\" class=\"dataframe\">\n",
       "  <thead>\n",
       "    <tr style=\"text-align: right;\">\n",
       "      <th></th>\n",
       "      <th>time</th>\n",
       "      <th>temp K</th>\n",
       "      <th>temp C</th>\n",
       "      <th>windspeed</th>\n",
       "      <th>weather</th>\n",
       "    </tr>\n",
       "  </thead>\n",
       "  <tbody>\n",
       "    <tr>\n",
       "      <th>12</th>\n",
       "      <td>2020-08-19 03:00:00</td>\n",
       "      <td>296.46</td>\n",
       "      <td>23.46</td>\n",
       "      <td>2.25</td>\n",
       "      <td>light rain</td>\n",
       "    </tr>\n",
       "  </tbody>\n",
       "</table>\n",
       "</div>"
      ],
      "text/plain": [
       "                   time  temp K  temp C  windspeed     weather\n",
       "12  2020-08-19 03:00:00  296.46   23.46       2.25  light rain"
      ]
     },
     "execution_count": 25,
     "metadata": {},
     "output_type": "execute_result"
    }
   ],
   "source": [
    "lagos_weather[lagos_weather[\"temp C\"] == min_temp]"
   ]
  },
  {
   "cell_type": "code",
   "execution_count": 26,
   "metadata": {},
   "outputs": [
    {
     "data": {
      "text/html": [
       "<div>\n",
       "<style scoped>\n",
       "    .dataframe tbody tr th:only-of-type {\n",
       "        vertical-align: middle;\n",
       "    }\n",
       "\n",
       "    .dataframe tbody tr th {\n",
       "        vertical-align: top;\n",
       "    }\n",
       "\n",
       "    .dataframe thead th {\n",
       "        text-align: right;\n",
       "    }\n",
       "</style>\n",
       "<table border=\"1\" class=\"dataframe\">\n",
       "  <thead>\n",
       "    <tr style=\"text-align: right;\">\n",
       "      <th></th>\n",
       "      <th>time</th>\n",
       "      <th>temp K</th>\n",
       "      <th>temp C</th>\n",
       "      <th>windspeed</th>\n",
       "      <th>weather</th>\n",
       "    </tr>\n",
       "  </thead>\n",
       "  <tbody>\n",
       "    <tr>\n",
       "      <th>16</th>\n",
       "      <td>2020-08-19 15:00:00</td>\n",
       "      <td>301.22</td>\n",
       "      <td>28.22</td>\n",
       "      <td>5.33</td>\n",
       "      <td>few clouds</td>\n",
       "    </tr>\n",
       "  </tbody>\n",
       "</table>\n",
       "</div>"
      ],
      "text/plain": [
       "                   time  temp K  temp C  windspeed     weather\n",
       "16  2020-08-19 15:00:00  301.22   28.22       5.33  few clouds"
      ]
     },
     "execution_count": 26,
     "metadata": {},
     "output_type": "execute_result"
    }
   ],
   "source": [
    "lagos_weather[lagos_weather[\"windspeed\"] == lagos_weather[\"windspeed\"].max()]"
   ]
  }
 ],
 "metadata": {
  "kernelspec": {
   "display_name": "Python 3",
   "language": "python",
   "name": "python3"
  },
  "language_info": {
   "codemirror_mode": {
    "name": "ipython",
    "version": 3
   },
   "file_extension": ".py",
   "mimetype": "text/x-python",
   "name": "python",
   "nbconvert_exporter": "python",
   "pygments_lexer": "ipython3",
   "version": "3.7.8"
  }
 },
 "nbformat": 4,
 "nbformat_minor": 4
}
