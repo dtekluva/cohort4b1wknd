{
 "cells": [
  {
   "cell_type": "code",
   "execution_count": 1,
   "metadata": {
    "ExecuteTime": {
     "end_time": "2021-04-24T11:51:43.602175Z",
     "start_time": "2021-04-24T11:51:43.353008Z"
    }
   },
   "outputs": [],
   "source": [
    "import requests"
   ]
  },
  {
   "cell_type": "code",
   "execution_count": 10,
   "metadata": {
    "ExecuteTime": {
     "end_time": "2021-04-24T12:36:15.004589Z",
     "start_time": "2021-04-24T12:36:14.997583Z"
    }
   },
   "outputs": [],
   "source": [
    "city_id = \"745042\" # istanbul\n",
    "city_id = \"2332453\" # lagos nigeria\n",
    "url = \"https://api.openweathermap.org/data/2.5/forecast?id=\" + city_id + \"&APPID=7d740708090dd65a4ddd2db1f445504e\""
   ]
  },
  {
   "cell_type": "code",
   "execution_count": 11,
   "metadata": {
    "ExecuteTime": {
     "end_time": "2021-04-24T12:36:16.311935Z",
     "start_time": "2021-04-24T12:36:15.498579Z"
    }
   },
   "outputs": [],
   "source": [
    "response = requests.get(url)"
   ]
  },
  {
   "cell_type": "code",
   "execution_count": 13,
   "metadata": {
    "ExecuteTime": {
     "end_time": "2021-04-24T13:52:34.337758Z",
     "start_time": "2021-04-24T13:52:34.322387Z"
    }
   },
   "outputs": [],
   "source": [
    "data = response.json()"
   ]
  },
  {
   "cell_type": "code",
   "execution_count": 15,
   "metadata": {
    "ExecuteTime": {
     "end_time": "2021-04-24T13:53:03.516056Z",
     "start_time": "2021-04-24T13:53:03.506065Z"
    }
   },
   "outputs": [
    {
     "data": {
      "text/plain": [
       "dict"
      ]
     },
     "execution_count": 15,
     "metadata": {},
     "output_type": "execute_result"
    }
   ],
   "source": [
    "type(data)"
   ]
  },
  {
   "cell_type": "code",
   "execution_count": 24,
   "metadata": {
    "ExecuteTime": {
     "end_time": "2021-04-24T13:58:19.348061Z",
     "start_time": "2021-04-24T13:58:19.334059Z"
    }
   },
   "outputs": [
    {
     "data": {
      "text/plain": [
       "'2021-04-25 00:00:00'"
      ]
     },
     "execution_count": 24,
     "metadata": {},
     "output_type": "execute_result"
    }
   ],
   "source": [
    "n = 3\n",
    "data.get(\"list\")[n].get(\"dt_txt\")"
   ]
  },
  {
   "cell_type": "code",
   "execution_count": 28,
   "metadata": {
    "ExecuteTime": {
     "end_time": "2021-04-24T14:07:56.476049Z",
     "start_time": "2021-04-24T14:07:56.456056Z"
    }
   },
   "outputs": [
    {
     "name": "stdout",
     "output_type": "stream",
     "text": [
      "2021-04-24 15:00:00\n",
      "2021-04-24 18:00:00\n",
      "2021-04-24 21:00:00\n",
      "2021-04-25 00:00:00\n",
      "2021-04-25 03:00:00\n",
      "2021-04-25 06:00:00\n",
      "2021-04-25 09:00:00\n",
      "2021-04-25 12:00:00\n",
      "2021-04-25 15:00:00\n",
      "2021-04-25 18:00:00\n",
      "2021-04-25 21:00:00\n",
      "2021-04-26 00:00:00\n",
      "2021-04-26 03:00:00\n",
      "2021-04-26 06:00:00\n",
      "2021-04-26 09:00:00\n",
      "2021-04-26 12:00:00\n",
      "2021-04-26 15:00:00\n",
      "2021-04-26 18:00:00\n",
      "2021-04-26 21:00:00\n",
      "2021-04-27 00:00:00\n",
      "2021-04-27 03:00:00\n",
      "2021-04-27 06:00:00\n",
      "2021-04-27 09:00:00\n",
      "2021-04-27 12:00:00\n",
      "2021-04-27 15:00:00\n",
      "2021-04-27 18:00:00\n",
      "2021-04-27 21:00:00\n",
      "2021-04-28 00:00:00\n",
      "2021-04-28 03:00:00\n",
      "2021-04-28 06:00:00\n",
      "2021-04-28 09:00:00\n",
      "2021-04-28 12:00:00\n",
      "2021-04-28 15:00:00\n",
      "2021-04-28 18:00:00\n",
      "2021-04-28 21:00:00\n",
      "2021-04-29 00:00:00\n",
      "2021-04-29 03:00:00\n",
      "2021-04-29 06:00:00\n",
      "2021-04-29 09:00:00\n",
      "2021-04-29 12:00:00\n"
     ]
    }
   ],
   "source": [
    "n = 0\n",
    "\n",
    "while n < 40:\n",
    "    \n",
    "    date = data.get(\"list\")[n].get(\"dt_txt\")\n",
    "    print(date)\n",
    "    n+=1"
   ]
  },
  {
   "cell_type": "code",
   "execution_count": 33,
   "metadata": {
    "ExecuteTime": {
     "end_time": "2021-04-24T14:19:17.184741Z",
     "start_time": "2021-04-24T14:19:17.160993Z"
    }
   },
   "outputs": [
    {
     "name": "stdout",
     "output_type": "stream",
     "text": [
      "2021-04-24 15:00:00 305.74 3.79 light rain\n",
      "2021-04-24 18:00:00 302.56 2.76 light rain\n",
      "2021-04-24 21:00:00 299.23 1.85 light rain\n",
      "2021-04-25 00:00:00 298.32 2.81 light rain\n",
      "2021-04-25 03:00:00 296.12 1.68 light rain\n",
      "2021-04-25 06:00:00 297.92 1.98 overcast clouds\n",
      "2021-04-25 09:00:00 302.8 3.22 overcast clouds\n",
      "2021-04-25 12:00:00 305.58 3.8 overcast clouds\n",
      "2021-04-25 15:00:00 305.29 3.84 broken clouds\n",
      "2021-04-25 18:00:00 300.58 2.35 broken clouds\n",
      "2021-04-25 21:00:00 300.11 1.98 light rain\n",
      "2021-04-26 00:00:00 299.56 1.8 broken clouds\n",
      "2021-04-26 03:00:00 298.99 1.29 light rain\n",
      "2021-04-26 06:00:00 298.87 1.38 light rain\n",
      "2021-04-26 09:00:00 304.26 2.73 few clouds\n",
      "2021-04-26 12:00:00 306.34 3.96 scattered clouds\n",
      "2021-04-26 15:00:00 305.35 4.6 scattered clouds\n",
      "2021-04-26 18:00:00 301.08 3.33 scattered clouds\n",
      "2021-04-26 21:00:00 300.15 1.86 light rain\n",
      "2021-04-27 00:00:00 299.81 1.84 broken clouds\n",
      "2021-04-27 03:00:00 299.45 0.62 overcast clouds\n",
      "2021-04-27 06:00:00 298.98 1.74 light rain\n",
      "2021-04-27 09:00:00 302.98 4.43 overcast clouds\n",
      "2021-04-27 12:00:00 305.87 3.68 overcast clouds\n",
      "2021-04-27 15:00:00 303.43 3.49 overcast clouds\n",
      "2021-04-27 18:00:00 300.88 3.18 overcast clouds\n",
      "2021-04-27 21:00:00 299.92 2.72 scattered clouds\n",
      "2021-04-28 00:00:00 299.51 2.09 light rain\n",
      "2021-04-28 03:00:00 299.07 1.9 overcast clouds\n",
      "2021-04-28 06:00:00 299.31 1.72 overcast clouds\n",
      "2021-04-28 09:00:00 304.51 3.12 broken clouds\n",
      "2021-04-28 12:00:00 305.83 3.66 light rain\n",
      "2021-04-28 15:00:00 305.01 3.97 light rain\n",
      "2021-04-28 18:00:00 301.01 2.91 broken clouds\n",
      "2021-04-28 21:00:00 299.74 2.36 light rain\n",
      "2021-04-29 00:00:00 299.31 1.58 broken clouds\n",
      "2021-04-29 03:00:00 298.94 1.7 overcast clouds\n",
      "2021-04-29 06:00:00 299.08 0.63 overcast clouds\n",
      "2021-04-29 09:00:00 304.58 2.23 overcast clouds\n",
      "2021-04-29 12:00:00 305.38 3.42 overcast clouds\n"
     ]
    }
   ],
   "source": [
    "n = 0\n",
    "length_of_data = len(data.get(\"list\")) # USE A DYNAMIC CHECK FOR THE LENGTH OF THE LIST\n",
    "\n",
    "while n < length_of_data:\n",
    "    \n",
    "    date = data.get(\"list\")[n].get(\"dt_txt\")\n",
    "    temp = data.get(\"list\")[n].get(\"main\").get(\"temp\")\n",
    "    wind = data.get(\"list\")[n].get(\"wind\").get(\"speed\")\n",
    "    weather = data.get(\"list\")[n].get(\"weather\")[0].get(\"description\")\n",
    "    \n",
    "    print(date, temp, wind, weather)\n",
    "    n+=1"
   ]
  },
  {
   "cell_type": "code",
   "execution_count": 38,
   "metadata": {
    "ExecuteTime": {
     "end_time": "2021-04-24T14:34:11.008706Z",
     "start_time": "2021-04-24T14:34:10.970703Z"
    }
   },
   "outputs": [
    {
     "name": "stdout",
     "output_type": "stream",
     "text": [
      "2021-04-24 15:00:00      305.74           3.79                light rain\n",
      "2021-04-24 18:00:00      302.56           2.76                light rain\n",
      "2021-04-24 21:00:00      299.23           1.85                light rain\n",
      "2021-04-25 00:00:00      298.32           2.81                light rain\n",
      "2021-04-25 03:00:00      296.12           1.68                light rain\n",
      "2021-04-25 06:00:00      297.92           1.98           overcast clouds\n",
      "2021-04-25 09:00:00      302.8            3.22           overcast clouds\n",
      "2021-04-25 12:00:00      305.58           3.8            overcast clouds\n",
      "2021-04-25 15:00:00      305.29           3.84             broken clouds\n",
      "2021-04-25 18:00:00      300.58           2.35             broken clouds\n",
      "2021-04-25 21:00:00      300.11           1.98                light rain\n",
      "2021-04-26 00:00:00      299.56           1.8              broken clouds\n",
      "2021-04-26 03:00:00      298.99           1.29                light rain\n",
      "2021-04-26 06:00:00      298.87           1.38                light rain\n",
      "2021-04-26 09:00:00      304.26           2.73                few clouds\n",
      "2021-04-26 12:00:00      306.34           3.96          scattered clouds\n",
      "2021-04-26 15:00:00      305.35           4.6           scattered clouds\n",
      "2021-04-26 18:00:00      301.08           3.33          scattered clouds\n",
      "2021-04-26 21:00:00      300.15           1.86                light rain\n",
      "2021-04-27 00:00:00      299.81           1.84             broken clouds\n",
      "2021-04-27 03:00:00      299.45           0.62           overcast clouds\n",
      "2021-04-27 06:00:00      298.98           1.74                light rain\n",
      "2021-04-27 09:00:00      302.98           4.43           overcast clouds\n",
      "2021-04-27 12:00:00      305.87           3.68           overcast clouds\n",
      "2021-04-27 15:00:00      303.43           3.49           overcast clouds\n",
      "2021-04-27 18:00:00      300.88           3.18           overcast clouds\n",
      "2021-04-27 21:00:00      299.92           2.72          scattered clouds\n",
      "2021-04-28 00:00:00      299.51           2.09                light rain\n",
      "2021-04-28 03:00:00      299.07           1.9            overcast clouds\n",
      "2021-04-28 06:00:00      299.31           1.72           overcast clouds\n",
      "2021-04-28 09:00:00      304.51           3.12             broken clouds\n",
      "2021-04-28 12:00:00      305.83           3.66                light rain\n",
      "2021-04-28 15:00:00      305.01           3.97                light rain\n",
      "2021-04-28 18:00:00      301.01           2.91             broken clouds\n",
      "2021-04-28 21:00:00      299.74           2.36                light rain\n",
      "2021-04-29 00:00:00      299.31           1.58             broken clouds\n",
      "2021-04-29 03:00:00      298.94           1.7            overcast clouds\n",
      "2021-04-29 06:00:00      299.08           0.63           overcast clouds\n",
      "2021-04-29 09:00:00      304.58           2.23           overcast clouds\n",
      "2021-04-29 12:00:00      305.38           3.42           overcast clouds\n"
     ]
    }
   ],
   "source": [
    "n = 0\n",
    "length_of_data = len(data.get(\"list\")) # USE A DYNAMIC CHECK FOR THE LENGTH OF THE LIST\n",
    "\n",
    "while n < length_of_data:\n",
    "    \n",
    "    date = data.get(\"list\")[n].get(\"dt_txt\")\n",
    "    temp = data.get(\"list\")[n].get(\"main\").get(\"temp\")\n",
    "    wind = data.get(\"list\")[n].get(\"wind\").get(\"speed\")\n",
    "    weather = data.get(\"list\")[n].get(\"weather\")[0].get(\"description\")\n",
    "    \n",
    "    print(date.center(15), str(temp).center(15), str(wind).center(15), weather.rjust(20))\n",
    "    n+=1"
   ]
  },
  {
   "cell_type": "code",
   "execution_count": 41,
   "metadata": {
    "ExecuteTime": {
     "end_time": "2021-04-24T14:36:40.521921Z",
     "start_time": "2021-04-24T14:36:40.481934Z"
    }
   },
   "outputs": [
    {
     "name": "stdout",
     "output_type": "stream",
     "text": [
      "2021-04-24 15:00:00      305.74           3.79                light rain\n",
      "2021-04-24 18:00:00      302.56           2.76                light rain\n",
      "2021-04-24 21:00:00      299.23           1.85                light rain\n",
      "2021-04-25 00:00:00      298.32           2.81                light rain\n",
      "2021-04-25 03:00:00      296.12           1.68                light rain\n",
      "2021-04-25 06:00:00      297.92           1.98           overcast clouds\n",
      "2021-04-25 09:00:00      302.8            3.22           overcast clouds\n",
      "2021-04-25 12:00:00      305.58           3.8            overcast clouds\n",
      "2021-04-25 15:00:00      305.29           3.84             broken clouds\n",
      "2021-04-25 18:00:00      300.58           2.35             broken clouds\n",
      "2021-04-25 21:00:00      300.11           1.98                light rain\n",
      "2021-04-26 00:00:00      299.56           1.8              broken clouds\n",
      "2021-04-26 03:00:00      298.99           1.29                light rain\n",
      "2021-04-26 06:00:00      298.87           1.38                light rain\n",
      "2021-04-26 09:00:00      304.26           2.73                few clouds\n",
      "2021-04-26 12:00:00      306.34           3.96          scattered clouds\n",
      "2021-04-26 15:00:00      305.35           4.6           scattered clouds\n",
      "2021-04-26 18:00:00      301.08           3.33          scattered clouds\n",
      "2021-04-26 21:00:00      300.15           1.86                light rain\n",
      "2021-04-27 00:00:00      299.81           1.84             broken clouds\n",
      "2021-04-27 03:00:00      299.45           0.62           overcast clouds\n",
      "2021-04-27 06:00:00      298.98           1.74                light rain\n",
      "2021-04-27 09:00:00      302.98           4.43           overcast clouds\n",
      "2021-04-27 12:00:00      305.87           3.68           overcast clouds\n",
      "2021-04-27 15:00:00      303.43           3.49           overcast clouds\n",
      "2021-04-27 18:00:00      300.88           3.18           overcast clouds\n",
      "2021-04-27 21:00:00      299.92           2.72          scattered clouds\n",
      "2021-04-28 00:00:00      299.51           2.09                light rain\n",
      "2021-04-28 03:00:00      299.07           1.9            overcast clouds\n",
      "2021-04-28 06:00:00      299.31           1.72           overcast clouds\n",
      "2021-04-28 09:00:00      304.51           3.12             broken clouds\n",
      "2021-04-28 12:00:00      305.83           3.66                light rain\n",
      "2021-04-28 15:00:00      305.01           3.97                light rain\n",
      "2021-04-28 18:00:00      301.01           2.91             broken clouds\n",
      "2021-04-28 21:00:00      299.74           2.36                light rain\n",
      "2021-04-29 00:00:00      299.31           1.58             broken clouds\n",
      "2021-04-29 03:00:00      298.94           1.7            overcast clouds\n",
      "2021-04-29 06:00:00      299.08           0.63           overcast clouds\n",
      "2021-04-29 09:00:00      304.58           2.23           overcast clouds\n",
      "2021-04-29 12:00:00      305.38           3.42           overcast clouds\n"
     ]
    }
   ],
   "source": [
    "file_name = \"weather.csv\"\n",
    "file = open(file_name, \"w\")\n",
    "\n",
    "n = 0\n",
    "length_of_data = len(data.get(\"list\")) # USE A DYNAMIC CHECK FOR THE LENGTH OF THE LIST\n",
    "\n",
    "while n < length_of_data:\n",
    "    \n",
    "    date = data.get(\"list\")[n].get(\"dt_txt\")\n",
    "    temp = data.get(\"list\")[n].get(\"main\").get(\"temp\")\n",
    "    wind = data.get(\"list\")[n].get(\"wind\").get(\"speed\")\n",
    "    weather = data.get(\"list\")[n].get(\"weather\")[0].get(\"description\")\n",
    "    \n",
    "    print(date.center(15), str(temp).center(15), str(wind).center(15), weather.rjust(20))\n",
    "    \n",
    "    file.write(f\"{date.center(15)}, {str(temp).center(15)}, {str(wind).center(15)}, {weather.rjust(20)}\\n\")\n",
    "    n+=1\n",
    "    \n",
    "file.close()"
   ]
  }
 ],
 "metadata": {
  "hide_input": false,
  "kernelspec": {
   "display_name": "Python 3",
   "language": "python",
   "name": "python3"
  },
  "language_info": {
   "codemirror_mode": {
    "name": "ipython",
    "version": 3
   },
   "file_extension": ".py",
   "mimetype": "text/x-python",
   "name": "python",
   "nbconvert_exporter": "python",
   "pygments_lexer": "ipython3",
   "version": "3.7.8"
  },
  "varInspector": {
   "cols": {
    "lenName": 16,
    "lenType": 16,
    "lenVar": 40
   },
   "kernels_config": {
    "python": {
     "delete_cmd_postfix": "",
     "delete_cmd_prefix": "del ",
     "library": "var_list.py",
     "varRefreshCmd": "print(var_dic_list())"
    },
    "r": {
     "delete_cmd_postfix": ") ",
     "delete_cmd_prefix": "rm(",
     "library": "var_list.r",
     "varRefreshCmd": "cat(var_dic_list()) "
    }
   },
   "types_to_exclude": [
    "module",
    "function",
    "builtin_function_or_method",
    "instance",
    "_Feature"
   ],
   "window_display": false
  }
 },
 "nbformat": 4,
 "nbformat_minor": 4
}
