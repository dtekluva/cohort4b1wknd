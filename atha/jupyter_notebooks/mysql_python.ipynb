{
 "cells": [
  {
   "cell_type": "code",
   "execution_count": 7,
   "metadata": {
    "ExecuteTime": {
     "end_time": "2021-05-29T10:36:08.952763Z",
     "start_time": "2021-05-29T10:36:08.940764Z"
    },
    "scrolled": true
   },
   "outputs": [],
   "source": [
    "# !pip install pymysql"
   ]
  },
  {
   "cell_type": "code",
   "execution_count": 8,
   "metadata": {
    "ExecuteTime": {
     "end_time": "2021-05-29T10:36:10.572925Z",
     "start_time": "2021-05-29T10:36:10.565924Z"
    }
   },
   "outputs": [],
   "source": [
    "# !pip install jupyterthemes"
   ]
  },
  {
   "cell_type": "code",
   "execution_count": 9,
   "metadata": {
    "ExecuteTime": {
     "end_time": "2021-05-29T10:36:13.967602Z",
     "start_time": "2021-05-29T10:36:13.953610Z"
    }
   },
   "outputs": [],
   "source": [
    "# !jt -l"
   ]
  },
  {
   "cell_type": "code",
   "execution_count": 10,
   "metadata": {
    "ExecuteTime": {
     "end_time": "2021-05-29T10:36:15.835689Z",
     "start_time": "2021-05-29T10:36:15.821684Z"
    }
   },
   "outputs": [],
   "source": [
    "# !jt -t chesterish"
   ]
  },
  {
   "cell_type": "code",
   "execution_count": 19,
   "metadata": {
    "ExecuteTime": {
     "end_time": "2021-05-29T11:43:58.394552Z",
     "start_time": "2021-05-29T11:43:58.366554Z"
    }
   },
   "outputs": [
    {
     "name": "stdout",
     "output_type": "stream",
     "text": [
      "INSERT INTO `users` (username, name, age, nation) VALUES (\"vincent\", \"vincent mancini\", \"34\", \"Italia\")\n"
     ]
    }
   ],
   "source": [
    "import pymysql.cursors\n",
    "\n",
    "# Connect to the database\n",
    "connection = pymysql.connect(host='localhost',\n",
    "                             user='root',\n",
    "                             password='',\n",
    "                             database='test',\n",
    "                             cursorclass=pymysql.cursors.DictCursor)\n",
    "\n",
    "with connection:\n",
    "    with connection.cursor() as cursor:\n",
    "        \n",
    "        username = \"vincent\"\n",
    "        name = \"vincent mancini\"\n",
    "        age = 34\n",
    "        nation = \"Italia\"\n",
    "        \n",
    "        # Create a new record\n",
    "        sql = f'INSERT INTO `users` (username, name, age, nation) VALUES (\"{username}\", \"{name}\", \"{age}\", \"{nation}\")'\n",
    "        print(sql)\n",
    "        cursor.execute(sql)\n",
    "\n",
    "    # connection is not autocommit by default. So you must commit to save\n",
    "    # your changes.\n",
    "    connection.commit()"
   ]
  },
  {
   "cell_type": "code",
   "execution_count": 22,
   "metadata": {
    "ExecuteTime": {
     "end_time": "2021-05-29T11:57:40.395492Z",
     "start_time": "2021-05-29T11:57:40.384490Z"
    }
   },
   "outputs": [],
   "source": [
    "# import pymysql.cursors\n",
    "\n",
    "# # Connect to the database\n",
    "# connection = pymysql.connect(host='localhost',\n",
    "#                              user='root',\n",
    "#                              password='',\n",
    "#                              database='test',\n",
    "#                              cursorclass=pymysql.cursors.DictCursor)\n",
    "\n",
    "# with connection:\n",
    "#     with connection.cursor() as cursor:\n",
    "        \n",
    "#         username = \"vincent\"\n",
    "#         name = \"vincent mancini\"\n",
    "#         age = 34\n",
    "#         nation = \"Italia\"\n",
    "        \n",
    "#         for i in range(30):\n",
    "#             # Create a new record\n",
    "#             sql = f'INSERT INTO `users` (username, name, age, nation) VALUES (\"{username}\", \"{name}\", \"{age}\", \"{nation}\")'\n",
    "#             print(sql)\n",
    "#             cursor.execute(sql)\n",
    "\n",
    "#     # connection is not autocommit by default. So you must commit to save\n",
    "#     # your changes.\n",
    "#     connection.commit()"
   ]
  },
  {
   "cell_type": "code",
   "execution_count": 40,
   "metadata": {
    "ExecuteTime": {
     "end_time": "2021-05-29T13:41:38.940737Z",
     "start_time": "2021-05-29T13:41:38.916740Z"
    }
   },
   "outputs": [
    {
     "name": "stdout",
     "output_type": "stream",
     "text": [
      "[{'name': 'John'}, {'name': 'Ahmed'}, {'name': 'Miller'}]\n"
     ]
    }
   ],
   "source": [
    "import pymysql.cursors\n",
    "\n",
    "# Connect to the database\n",
    "connection = pymysql.connect(host='localhost',\n",
    "                             user='root',\n",
    "                             password='',\n",
    "                             database='test',\n",
    "                             cursorclass=pymysql.cursors.DictCursor)\n",
    "\n",
    "with connection:\n",
    "\n",
    "    with connection.cursor() as cursor:\n",
    "        # Read a single record\n",
    "        sql = \"SELECT name FROM users\"\n",
    "        cursor.execute(sql)\n",
    "#         result = cursor.fetchone() # FETCH ONE VALUE ONLY\n",
    "        result = cursor.fetchmany(3)# FETCH MANY VALUES AT A TIME\n",
    "        print(result)"
   ]
  },
  {
   "cell_type": "code",
   "execution_count": 30,
   "metadata": {
    "ExecuteTime": {
     "end_time": "2021-05-29T13:26:09.942105Z",
     "start_time": "2021-05-29T13:26:09.925103Z"
    }
   },
   "outputs": [],
   "source": [
    "names = [\"x\", \"y\", \"z\"]\n",
    "ages = [20, 32, 29]\n",
    "usernames = [\"x1\", \"x2\", \"x3\"]\n",
    "nations = [\"NG\", \"US\", \"AU\"]"
   ]
  },
  {
   "cell_type": "code",
   "execution_count": 32,
   "metadata": {
    "ExecuteTime": {
     "end_time": "2021-05-29T13:27:10.287114Z",
     "start_time": "2021-05-29T13:27:10.263105Z"
    }
   },
   "outputs": [
    {
     "data": {
      "text/plain": [
       "[('x', 20, 'x1', 'NG'), ('y', 32, 'x2', 'US'), ('z', 29, 'x3', 'AU')]"
      ]
     },
     "execution_count": 32,
     "metadata": {},
     "output_type": "execute_result"
    }
   ],
   "source": [
    "list(zip(names, ages, usernames, nations))"
   ]
  },
  {
   "cell_type": "code",
   "execution_count": 37,
   "metadata": {
    "ExecuteTime": {
     "end_time": "2021-05-29T13:34:04.894772Z",
     "start_time": "2021-05-29T13:34:04.868768Z"
    }
   },
   "outputs": [],
   "source": [
    "import pymysql.cursors\n",
    "\n",
    "def write_to_db(username, name, age, nation):\n",
    "\n",
    "    # Connect to the database\n",
    "    connection = pymysql.connect(host='localhost',\n",
    "                                 user='root',\n",
    "                                 password='',\n",
    "                                 database='test',\n",
    "                                 cursorclass=pymysql.cursors.DictCursor)\n",
    "\n",
    "    with connection:\n",
    "        with connection.cursor() as cursor:\n",
    "\n",
    "            # Create a new record\n",
    "            sql = f'INSERT INTO `users` (username, name, age, nation) VALUES (\"{username}\", \"{name}\", \"{age}\", \"{nation}\")'\n",
    "            print(sql)\n",
    "            cursor.execute(sql) # EXECUTE COMMAND\n",
    "\n",
    "        # connection is not autocommit by default. So you must commit to save\n",
    "        # your changes.\n",
    "        connection.commit()"
   ]
  },
  {
   "cell_type": "code",
   "execution_count": 39,
   "metadata": {
    "ExecuteTime": {
     "end_time": "2021-05-29T13:36:11.299019Z",
     "start_time": "2021-05-29T13:36:11.254034Z"
    }
   },
   "outputs": [
    {
     "name": "stdout",
     "output_type": "stream",
     "text": [
      "x x1 20 NG\n",
      "INSERT INTO `users` (username, name, age, nation) VALUES (\"x1\", \"x\", \"20\", \"NG\")\n",
      "y x2 32 US\n",
      "INSERT INTO `users` (username, name, age, nation) VALUES (\"x2\", \"y\", \"32\", \"US\")\n",
      "z x3 29 AU\n",
      "INSERT INTO `users` (username, name, age, nation) VALUES (\"x3\", \"z\", \"29\", \"AU\")\n"
     ]
    }
   ],
   "source": [
    "for  name, age, username, nation in zip(names, ages, usernames, nations): # LOOP THROUGH ZIPPED ITEMS ( REMEMBER ZIP() MAKES THE ITEMS INTO A MATCHED TUPLE FOR EACH LIST ENTRY)\n",
    "    \n",
    "    print(name, username, age, nation)\n",
    "    write_to_db(username, name, age, nation) # CALL THE WRITE FUNCTION TO TAKE THE PARAMETERS, COSTRUCT OUR COMMAND AND THEN WRITE THE DATA INTO OUR DATABASE."
   ]
  },
  {
   "cell_type": "code",
   "execution_count": null,
   "metadata": {},
   "outputs": [],
   "source": []
  },
  {
   "cell_type": "code",
   "execution_count": 49,
   "metadata": {
    "ExecuteTime": {
     "end_time": "2021-05-29T14:10:44.325800Z",
     "start_time": "2021-05-29T14:10:44.310796Z"
    }
   },
   "outputs": [],
   "source": [
    "import pandas as pd\n",
    "\n",
    "data = pd.read_csv(r\"C:\\Users\\kboys\\OneDrive\\Desktop\\CLASSES\\UNIVELCITY CLASSES\\cohort4b1wknd\\materials\\statement2.csv\")"
   ]
  },
  {
   "cell_type": "code",
   "execution_count": 50,
   "metadata": {
    "ExecuteTime": {
     "end_time": "2021-05-29T14:10:44.995796Z",
     "start_time": "2021-05-29T14:10:44.941796Z"
    }
   },
   "outputs": [
    {
     "data": {
      "text/html": [
       "<div>\n",
       "<style scoped>\n",
       "    .dataframe tbody tr th:only-of-type {\n",
       "        vertical-align: middle;\n",
       "    }\n",
       "\n",
       "    .dataframe tbody tr th {\n",
       "        vertical-align: top;\n",
       "    }\n",
       "\n",
       "    .dataframe thead th {\n",
       "        text-align: right;\n",
       "    }\n",
       "</style>\n",
       "<table border=\"1\" class=\"dataframe\">\n",
       "  <thead>\n",
       "    <tr style=\"text-align: right;\">\n",
       "      <th></th>\n",
       "      <th>Txn Date</th>\n",
       "      <th>Date</th>\n",
       "      <th>Ref No</th>\n",
       "      <th>Withdrawls</th>\n",
       "      <th>Lodgements</th>\n",
       "      <th>Balance</th>\n",
       "      <th>Description</th>\n",
       "      <th>Unnamed: 7</th>\n",
       "      <th>Unnamed: 8</th>\n",
       "    </tr>\n",
       "  </thead>\n",
       "  <tbody>\n",
       "    <tr>\n",
       "      <th>0</th>\n",
       "      <td>NaN</td>\n",
       "      <td>NaN</td>\n",
       "      <td>NaN</td>\n",
       "      <td>0.00</td>\n",
       "      <td>0.0</td>\n",
       "      <td>989693.06</td>\n",
       "      <td>Balance Brought Forward</td>\n",
       "      <td>NaN</td>\n",
       "      <td>NaN</td>\n",
       "    </tr>\n",
       "    <tr>\n",
       "      <th>1</th>\n",
       "      <td>31/03/2021</td>\n",
       "      <td>01/04/2021</td>\n",
       "      <td>071ICEDNGN 00001</td>\n",
       "      <td>3.43</td>\n",
       "      <td>0.0</td>\n",
       "      <td>989689.63</td>\n",
       "      <td>DEBIT INTEREST  CAPITALIZATION</td>\n",
       "      <td>NaN</td>\n",
       "      <td>NaN</td>\n",
       "    </tr>\n",
       "    <tr>\n",
       "      <th>2</th>\n",
       "      <td>01/04/2021</td>\n",
       "      <td>01/04/2021</td>\n",
       "      <td>099MJKL210915zGn</td>\n",
       "      <td>500.00</td>\n",
       "      <td>0.0</td>\n",
       "      <td>989189.63</td>\n",
       "      <td>901Airtime- 2348031346306</td>\n",
       "      <td>NaN</td>\n",
       "      <td>NaN</td>\n",
       "    </tr>\n",
       "    <tr>\n",
       "      <th>3</th>\n",
       "      <td>01/04/2021</td>\n",
       "      <td>01/04/2021</td>\n",
       "      <td>099MNIP210913g7i</td>\n",
       "      <td>0.00</td>\n",
       "      <td>132600.0</td>\n",
       "      <td>1121789.63</td>\n",
       "      <td>UNIVEL CITY ENTERPRISES/March consultancy fees</td>\n",
       "      <td>NaN</td>\n",
       "      <td>NaN</td>\n",
       "    </tr>\n",
       "    <tr>\n",
       "      <th>4</th>\n",
       "      <td>01/04/2021</td>\n",
       "      <td>01/04/2021</td>\n",
       "      <td>099MJKL21091AlBH</td>\n",
       "      <td>100.00</td>\n",
       "      <td>0.0</td>\n",
       "      <td>1121689.63</td>\n",
       "      <td>901Airtime- 2348031346306</td>\n",
       "      <td>NaN</td>\n",
       "      <td>NaN</td>\n",
       "    </tr>\n",
       "    <tr>\n",
       "      <th>...</th>\n",
       "      <td>...</td>\n",
       "      <td>...</td>\n",
       "      <td>...</td>\n",
       "      <td>...</td>\n",
       "      <td>...</td>\n",
       "      <td>...</td>\n",
       "      <td>...</td>\n",
       "      <td>...</td>\n",
       "      <td>...</td>\n",
       "    </tr>\n",
       "    <tr>\n",
       "      <th>79</th>\n",
       "      <td>23/04/2021</td>\n",
       "      <td>23/04/2021</td>\n",
       "      <td>099MNIP211130d0Z</td>\n",
       "      <td>0.00</td>\n",
       "      <td>50000.0</td>\n",
       "      <td>955244.15</td>\n",
       "      <td>etim John/FT IFO etim BO etim K</td>\n",
       "      <td>NaN</td>\n",
       "      <td>NaN</td>\n",
       "    </tr>\n",
       "    <tr>\n",
       "      <th>80</th>\n",
       "      <td>23/04/2021</td>\n",
       "      <td>23/04/2021</td>\n",
       "      <td>099MJKL211132hdR</td>\n",
       "      <td>10026.88</td>\n",
       "      <td>0.0</td>\n",
       "      <td>945217.27</td>\n",
       "      <td>TRF/Refund/FRM John  etim TO ISONG</td>\n",
       "      <td>NaN</td>\n",
       "      <td>NaN</td>\n",
       "    </tr>\n",
       "    <tr>\n",
       "      <th>81</th>\n",
       "      <td>23/04/2021</td>\n",
       "      <td>23/04/2021</td>\n",
       "      <td>099MJKL211132lwd</td>\n",
       "      <td>10026.88</td>\n",
       "      <td>0.0</td>\n",
       "      <td>935190.39</td>\n",
       "      <td>TRF/Upkeep/FRM John  etim TO</td>\n",
       "      <td>NaN</td>\n",
       "      <td>NaN</td>\n",
       "    </tr>\n",
       "    <tr>\n",
       "      <th>82</th>\n",
       "      <td>23/04/2021</td>\n",
       "      <td>23/04/2021</td>\n",
       "      <td>099MJKL211134GVZ</td>\n",
       "      <td>30026.88</td>\n",
       "      <td>0.0</td>\n",
       "      <td>905163.51</td>\n",
       "      <td>TRF/Contribution/FRM John  etim TO</td>\n",
       "      <td>NaN</td>\n",
       "      <td>NaN</td>\n",
       "    </tr>\n",
       "    <tr>\n",
       "      <th>83</th>\n",
       "      <td>23/04/2021</td>\n",
       "      <td>23/04/2021</td>\n",
       "      <td>099MNIP211133U7o</td>\n",
       "      <td>0.00</td>\n",
       "      <td>40000.0</td>\n",
       "      <td>945163.51</td>\n",
       "      <td>WILLIAMS  OLAOLU OLUFEMIWILLIAMS OLAOLU</td>\n",
       "      <td>NaN</td>\n",
       "      <td>NaN</td>\n",
       "    </tr>\n",
       "  </tbody>\n",
       "</table>\n",
       "<p>84 rows × 9 columns</p>\n",
       "</div>"
      ],
      "text/plain": [
       "      Txn Date        Date            Ref No  Withdrawls  Lodgements  \\\n",
       "0          NaN         NaN               NaN        0.00         0.0   \n",
       "1   31/03/2021  01/04/2021  071ICEDNGN 00001        3.43         0.0   \n",
       "2   01/04/2021  01/04/2021  099MJKL210915zGn      500.00         0.0   \n",
       "3   01/04/2021  01/04/2021  099MNIP210913g7i        0.00    132600.0   \n",
       "4   01/04/2021  01/04/2021  099MJKL21091AlBH      100.00         0.0   \n",
       "..         ...         ...               ...         ...         ...   \n",
       "79  23/04/2021  23/04/2021  099MNIP211130d0Z        0.00     50000.0   \n",
       "80  23/04/2021  23/04/2021  099MJKL211132hdR    10026.88         0.0   \n",
       "81  23/04/2021  23/04/2021  099MJKL211132lwd    10026.88         0.0   \n",
       "82  23/04/2021  23/04/2021  099MJKL211134GVZ    30026.88         0.0   \n",
       "83  23/04/2021  23/04/2021  099MNIP211133U7o        0.00     40000.0   \n",
       "\n",
       "       Balance                                     Description  Unnamed: 7  \\\n",
       "0    989693.06                         Balance Brought Forward         NaN   \n",
       "1    989689.63                  DEBIT INTEREST  CAPITALIZATION         NaN   \n",
       "2    989189.63                      901Airtime- 2348031346306          NaN   \n",
       "3   1121789.63  UNIVEL CITY ENTERPRISES/March consultancy fees         NaN   \n",
       "4   1121689.63                      901Airtime- 2348031346306          NaN   \n",
       "..         ...                                             ...         ...   \n",
       "79   955244.15                 etim John/FT IFO etim BO etim K         NaN   \n",
       "80   945217.27             TRF/Refund/FRM John  etim TO ISONG          NaN   \n",
       "81   935190.39                  TRF/Upkeep/FRM John  etim TO           NaN   \n",
       "82   905163.51            TRF/Contribution/FRM John  etim TO           NaN   \n",
       "83   945163.51        WILLIAMS  OLAOLU OLUFEMIWILLIAMS OLAOLU          NaN   \n",
       "\n",
       "    Unnamed: 8  \n",
       "0          NaN  \n",
       "1          NaN  \n",
       "2          NaN  \n",
       "3          NaN  \n",
       "4          NaN  \n",
       "..         ...  \n",
       "79         NaN  \n",
       "80         NaN  \n",
       "81         NaN  \n",
       "82         NaN  \n",
       "83         NaN  \n",
       "\n",
       "[84 rows x 9 columns]"
      ]
     },
     "execution_count": 50,
     "metadata": {},
     "output_type": "execute_result"
    }
   ],
   "source": [
    "data"
   ]
  },
  {
   "cell_type": "code",
   "execution_count": 51,
   "metadata": {
    "ExecuteTime": {
     "end_time": "2021-05-29T14:11:48.437796Z",
     "start_time": "2021-05-29T14:11:48.368796Z"
    }
   },
   "outputs": [
    {
     "data": {
      "text/html": [
       "<div>\n",
       "<style scoped>\n",
       "    .dataframe tbody tr th:only-of-type {\n",
       "        vertical-align: middle;\n",
       "    }\n",
       "\n",
       "    .dataframe tbody tr th {\n",
       "        vertical-align: top;\n",
       "    }\n",
       "\n",
       "    .dataframe thead th {\n",
       "        text-align: right;\n",
       "    }\n",
       "</style>\n",
       "<table border=\"1\" class=\"dataframe\">\n",
       "  <thead>\n",
       "    <tr style=\"text-align: right;\">\n",
       "      <th></th>\n",
       "      <th>Withdrawls</th>\n",
       "      <th>Lodgements</th>\n",
       "      <th>Balance</th>\n",
       "      <th>Unnamed: 7</th>\n",
       "      <th>Unnamed: 8</th>\n",
       "    </tr>\n",
       "  </thead>\n",
       "  <tbody>\n",
       "    <tr>\n",
       "      <th>count</th>\n",
       "      <td>84.000000</td>\n",
       "      <td>84.000000</td>\n",
       "      <td>8.400000e+01</td>\n",
       "      <td>0.0</td>\n",
       "      <td>0.0</td>\n",
       "    </tr>\n",
       "    <tr>\n",
       "      <th>mean</th>\n",
       "      <td>9484.005119</td>\n",
       "      <td>8953.891429</td>\n",
       "      <td>9.641454e+05</td>\n",
       "      <td>NaN</td>\n",
       "      <td>NaN</td>\n",
       "    </tr>\n",
       "    <tr>\n",
       "      <th>std</th>\n",
       "      <td>19613.207998</td>\n",
       "      <td>24528.794149</td>\n",
       "      <td>5.572199e+04</td>\n",
       "      <td>NaN</td>\n",
       "      <td>NaN</td>\n",
       "    </tr>\n",
       "    <tr>\n",
       "      <th>min</th>\n",
       "      <td>0.000000</td>\n",
       "      <td>0.000000</td>\n",
       "      <td>9.051635e+05</td>\n",
       "      <td>NaN</td>\n",
       "      <td>NaN</td>\n",
       "    </tr>\n",
       "    <tr>\n",
       "      <th>25%</th>\n",
       "      <td>40.875000</td>\n",
       "      <td>0.000000</td>\n",
       "      <td>9.196711e+05</td>\n",
       "      <td>NaN</td>\n",
       "      <td>NaN</td>\n",
       "    </tr>\n",
       "    <tr>\n",
       "      <th>50%</th>\n",
       "      <td>1010.750000</td>\n",
       "      <td>0.000000</td>\n",
       "      <td>9.482382e+05</td>\n",
       "      <td>NaN</td>\n",
       "      <td>NaN</td>\n",
       "    </tr>\n",
       "    <tr>\n",
       "      <th>75%</th>\n",
       "      <td>10026.880000</td>\n",
       "      <td>0.000000</td>\n",
       "      <td>9.930072e+05</td>\n",
       "      <td>NaN</td>\n",
       "      <td>NaN</td>\n",
       "    </tr>\n",
       "    <tr>\n",
       "      <th>max</th>\n",
       "      <td>100053.750000</td>\n",
       "      <td>132600.000000</td>\n",
       "      <td>1.121790e+06</td>\n",
       "      <td>NaN</td>\n",
       "      <td>NaN</td>\n",
       "    </tr>\n",
       "  </tbody>\n",
       "</table>\n",
       "</div>"
      ],
      "text/plain": [
       "          Withdrawls     Lodgements       Balance  Unnamed: 7  Unnamed: 8\n",
       "count      84.000000      84.000000  8.400000e+01         0.0         0.0\n",
       "mean     9484.005119    8953.891429  9.641454e+05         NaN         NaN\n",
       "std     19613.207998   24528.794149  5.572199e+04         NaN         NaN\n",
       "min         0.000000       0.000000  9.051635e+05         NaN         NaN\n",
       "25%        40.875000       0.000000  9.196711e+05         NaN         NaN\n",
       "50%      1010.750000       0.000000  9.482382e+05         NaN         NaN\n",
       "75%     10026.880000       0.000000  9.930072e+05         NaN         NaN\n",
       "max    100053.750000  132600.000000  1.121790e+06         NaN         NaN"
      ]
     },
     "execution_count": 51,
     "metadata": {},
     "output_type": "execute_result"
    }
   ],
   "source": [
    "data.describe() # statistical info on dataset"
   ]
  },
  {
   "cell_type": "code",
   "execution_count": 55,
   "metadata": {
    "ExecuteTime": {
     "end_time": "2021-05-29T14:18:05.224311Z",
     "start_time": "2021-05-29T14:18:04.985697Z"
    }
   },
   "outputs": [],
   "source": [
    "summary = data.describe()\n",
    "summary.to_excel(r\"C:\\Users\\kboys\\OneDrive\\Desktop\\summary.xls\")"
   ]
  },
  {
   "cell_type": "code",
   "execution_count": 67,
   "metadata": {
    "ExecuteTime": {
     "end_time": "2021-05-29T14:39:14.261638Z",
     "start_time": "2021-05-29T14:39:14.246014Z"
    }
   },
   "outputs": [],
   "source": [
    "# for row in data.iterrows(): # loop through rows of pandas dataframe\n",
    "#     print(row) # All row data"
   ]
  },
  {
   "cell_type": "code",
   "execution_count": 71,
   "metadata": {
    "ExecuteTime": {
     "end_time": "2021-05-29T14:50:29.539226Z",
     "start_time": "2021-05-29T14:50:29.535225Z"
    }
   },
   "outputs": [],
   "source": [
    "# for index, row in data.iterrows(): # loop through rows of pandas dataframe\n",
    "# #     print(row) # All row data\n",
    "\n",
    "    \n",
    "#     print(row[\"Txn Date\"]) # specific column (txn date)"
   ]
  },
  {
   "cell_type": "code",
   "execution_count": 80,
   "metadata": {
    "ExecuteTime": {
     "end_time": "2021-05-29T14:56:09.966381Z",
     "start_time": "2021-05-29T14:56:09.958382Z"
    }
   },
   "outputs": [],
   "source": [
    "import pymysql.cursors\n",
    "\n",
    "\"\"\"CREATE TABLE statment (\n",
    "  \t\t\t\t\t\tid INT(3) AUTO_INCREMENT PRIMARY KEY NOT NULL, \n",
    "                       \ttxndate VARCHAR(500), \n",
    "                       \tref VARCHAR(500), \n",
    "                       \tcredit INT(10), \n",
    "                       \tdebit INT(10),  \n",
    "                       \tbalance INT(10), \n",
    "                       \tremark VARCHAR(500)\n",
    "                      )\"\"\"\n",
    "\n",
    "def write_to_db2(date, ref, debits, credits, balance, remark):\n",
    "\n",
    "    # Connect to the database\n",
    "    connection = pymysql.connect(host='localhost',\n",
    "                                 user='root',\n",
    "                                 password='',\n",
    "                                 database='test',\n",
    "                                 cursorclass=pymysql.cursors.DictCursor)\n",
    "\n",
    "    with connection:\n",
    "        with connection.cursor() as cursor:\n",
    "\n",
    "            # Create a new record\n",
    "            sql = f'INSERT INTO `statment` (txndate , ref, debit, credit, balance, remark) VALUES (\"{date}\", \"{ref}\", \"{debits}\", \"{credits}\", \"{balance[0]}\", \"{remark}\")'\n",
    "            print(sql)\n",
    "            cursor.execute(sql) # EXECUTE COMMAND\n",
    "\n",
    "        # connection is not autocommit by default. So you must commit to save\n",
    "        # your changes.\n",
    "        connection.commit()"
   ]
  },
  {
   "cell_type": "code",
   "execution_count": 81,
   "metadata": {
    "ExecuteTime": {
     "end_time": "2021-05-29T14:56:11.197481Z",
     "start_time": "2021-05-29T14:56:10.294535Z"
    }
   },
   "outputs": [
    {
     "name": "stdout",
     "output_type": "stream",
     "text": [
      "INSERT INTO `statment` (txndate , ref, debit, credit, balance, remark) VALUES (\"nan\", \"nan\", \"0.0\", \"0.0\", \"989693.06\", \"Balance Brought Forward\")\n",
      "INSERT INTO `statment` (txndate , ref, debit, credit, balance, remark) VALUES (\"31/03/2021\", \"071ICEDNGN 00001\", \"3.43\", \"0.0\", \"989689.63\", \"DEBIT INTEREST  CAPITALIZATION\")\n",
      "INSERT INTO `statment` (txndate , ref, debit, credit, balance, remark) VALUES (\"01/04/2021\", \"099MJKL210915zGn\", \"500.0\", \"0.0\", \"989189.63\", \"901Airtime- 2348031346306 \")\n",
      "INSERT INTO `statment` (txndate , ref, debit, credit, balance, remark) VALUES (\"01/04/2021\", \"099MNIP210913g7i\", \"0.0\", \"132600.0\", \"1121789.63\", \"UNIVEL CITY ENTERPRISES/March consultancy fees\")\n",
      "INSERT INTO `statment` (txndate , ref, debit, credit, balance, remark) VALUES (\"01/04/2021\", \"099MJKL21091AlBH\", \"100.0\", \"0.0\", \"1121689.63\", \"901Airtime- 2348031346306 \")\n",
      "INSERT INTO `statment` (txndate , ref, debit, credit, balance, remark) VALUES (\"01/04/2021\", \"099MJKL21091AwJG\", \"30026.88\", \"0.0\", \"1091662.75\", \"TRF/savings/FRM John  etim TO etim\")\n",
      "INSERT INTO `statment` (txndate , ref, debit, credit, balance, remark) VALUES (\"01/04/2021\", \"099MJKL21091AyRa\", \"10026.88\", \"0.0\", \"1081635.87\", \"TRF/refund/FRM John  etim TO ISONG\")\n",
      "INSERT INTO `statment` (txndate , ref, debit, credit, balance, remark) VALUES (\"02/04/2021\", \"099MJKL210926K2P\", \"15026.88\", \"0.0\", \"1066608.99\", \"USSD_NIP/John  etim/07XXXX9839/etim \")\n",
      "INSERT INTO `statment` (txndate , ref, debit, credit, balance, remark) VALUES (\"02/04/2021\", \"099MJKL210928ZCo\", \"500.0\", \"0.0\", \"1066108.99\", \"901 Data purchase/ \")\n",
      "INSERT INTO `statment` (txndate , ref, debit, credit, balance, remark) VALUES (\"02/04/2021\", \"099MJKL210928Y23\", \"0.0\", \"500.0\", \"1066608.99\", \"REV-901 Data purchase/ \")\n",
      "INSERT INTO `statment` (txndate , ref, debit, credit, balance, remark) VALUES (\"05/04/2021\", \"099MJKL2109551Af\", \"22000.0\", \"0.0\", \"1044608.99\", \"TRF/phone repair/FRM John  etim TO \")\n",
      "INSERT INTO `statment` (txndate , ref, debit, credit, balance, remark) VALUES (\"05/04/2021\", \"099MJKL210956KcG\", \"7026.88\", \"0.0\", \"1037582.11\", \"TRF/new shoes/FRM John  etim TO \")\n",
      "INSERT INTO `statment` (txndate , ref, debit, credit, balance, remark) VALUES (\"05/04/2021\", \"099MJKL210956Kq5\", \"0.0\", \"7026.88\", \"1044608.99\", \"RVSL~TRF/new shoes/FRM John  etim TO \")\n",
      "INSERT INTO `statment` (txndate , ref, debit, credit, balance, remark) VALUES (\"05/04/2021\", \"099MJKL210956NvH\", \"10026.88\", \"0.0\", \"1034582.11\", \"TRF/shoes/FRM John  etim TO etim\")\n",
      "INSERT INTO `statment` (txndate , ref, debit, credit, balance, remark) VALUES (\"05/04/2021\", \"099MJKL210957ND5\", \"24026.88\", \"0.0\", \"1010555.23\", \"TRF/cloths/FRM John  etim TO OBINNA\")\n",
      "INSERT INTO `statment` (txndate , ref, debit, credit, balance, remark) VALUES (\"05/04/2021\", \"099MJKL21095C4ZT\", \"100053.75\", \"0.0\", \"910501.48\", \"TRF/Loan omolola/FRM John  etim TO \")\n",
      "INSERT INTO `statment` (txndate , ref, debit, credit, balance, remark) VALUES (\"05/04/2021\", \"099MJKL21095Md5g\", \"2010.75\", \"0.0\", \"908490.73\", \"TRF/Uber ride landmark/FRM John  etim TO \")\n",
      "INSERT INTO `statment` (txndate , ref, debit, credit, balance, remark) VALUES (\"05/04/2021\", \"099ZTRF21095LCTX\", \"0.0\", \"20000.0\", \"928490.73\", \"Principal Disbursement 099ILAT21095096K \")\n",
      "INSERT INTO `statment` (txndate , ref, debit, credit, balance, remark) VALUES (\"05/04/2021\", \"099ZTRF21095LCU2\", \"15.0\", \"0.0\", \"928475.73\", \"VAT on Management Fee 099ILAT21095096K \")\n",
      "INSERT INTO `statment` (txndate , ref, debit, credit, balance, remark) VALUES (\"05/04/2021\", \"099ZTRF21095LCU0\", \"200.0\", \"0.0\", \"928275.73\", \"Management Fee 099ILAT21095096K \")\n",
      "INSERT INTO `statment` (txndate , ref, debit, credit, balance, remark) VALUES (\"05/04/2021\", \"099ZTRF21095LCTY\", \"100.0\", \"0.0\", \"928175.73\", \"Credit Life Insurance  099ILAT21095096K \")\n",
      "INSERT INTO `statment` (txndate , ref, debit, credit, balance, remark) VALUES (\"05/04/2021\", \"099MJKL21095SR2e\", \"5010.75\", \"0.0\", \"923164.98\", \"TRF/Trip/FRM John  etim TO Runo Eferigho- \")\n",
      "INSERT INTO `statment` (txndate , ref, debit, credit, balance, remark) VALUES (\"05/04/2021\", \"099MJKL21095cQLn\", \"17026.88\", \"0.0\", \"906138.1\", \"TRF/Refund to eddy/FRM John  etim TO \")\n",
      "INSERT INTO `statment` (txndate , ref, debit, credit, balance, remark) VALUES (\"06/04/2021\", \"099MJKL21096BbwM\", \"610.75\", \"0.0\", \"905527.35\", \"TRF/data/FRM John  etim TO John\")\n",
      "INSERT INTO `statment` (txndate , ref, debit, credit, balance, remark) VALUES (\"06/04/2021\", \"099MNIP210965hzl\", \"0.0\", \"80000.0\", \"985527.35\", \"SULIAT   YUSUFF/NIP TFR FROM SULIAT   YUSUFF\")\n",
      "INSERT INTO `statment` (txndate , ref, debit, credit, balance, remark) VALUES (\"06/04/2021\", \"099MNIP210966K4v\", \"0.0\", \"15000.0\", \"1000527.35\", \"WILLIAMS  OLAOLU OLUFEMIWILLIAMS OLAOLU \")\n",
      "INSERT INTO `statment` (txndate , ref, debit, credit, balance, remark) VALUES (\"07/04/2021\", \"099MJKL21096JOmW\", \"10026.88\", \"0.0\", \"990500.47\", \"TRF/Plantain flour/FRM John  etim TO \")\n",
      "INSERT INTO `statment` (txndate , ref, debit, credit, balance, remark) VALUES (\"07/04/2021\", \"099MNIP2109707co\", \"0.0\", \"20000.0\", \"1010500.47\", \"SULIAT   YUSUFF/NIP TFR FROM SULIAT   YUSUFF\")\n",
      "INSERT INTO `statment` (txndate , ref, debit, credit, balance, remark) VALUES (\"07/04/2021\", \"099MJKL21097Fjlf\", \"40026.88\", \"0.0\", \"970473.59\", \"TRF/Solar panel/FRM John  etim TO \")\n",
      "INSERT INTO `statment` (txndate , ref, debit, credit, balance, remark) VALUES (\"07/04/2021\", \"099MJKL21097G51r\", \"2010.75\", \"0.0\", \"968462.84\", \"TRF/Eka gift/FRM John  etim TO ASUQUO \")\n",
      "INSERT INTO `statment` (txndate , ref, debit, credit, balance, remark) VALUES (\"07/04/2021\", \"071ZSTM21097007D\", \"150.0\", \"0.0\", \"968312.84\", \"FGN ELECTRONIC MONEY TRANSFER LEVY\")\n",
      "INSERT INTO `statment` (txndate , ref, debit, credit, balance, remark) VALUES (\"08/04/2021\", \"099MJKL21098HFkL\", \"7026.88\", \"0.0\", \"961285.96\", \"TRF/Solar panel balance/FRM John  etim TO \")\n",
      "INSERT INTO `statment` (txndate , ref, debit, credit, balance, remark) VALUES (\"08/04/2021\", \"099MJKL21098HLdb\", \"10026.88\", \"0.0\", \"951259.08\", \"TRF/Loan/FRM John  etim TO SHADE \")\n",
      "INSERT INTO `statment` (txndate , ref, debit, credit, balance, remark) VALUES (\"09/04/2021\", \"099MNIP210995AoI\", \"0.0\", \"39000.0\", \"990259.08\", \"etim John AUGUSTINE/ONB TRF FROM \")\n",
      "INSERT INTO `statment` (txndate , ref, debit, credit, balance, remark) VALUES (\"09/04/2021\", \"099MJKL21099FHrq\", \"80053.75\", \"0.0\", \"910205.33\", \"TRF/Inini/FRM John  etim TO AGUNBIADE  \")\n",
      "INSERT INTO `statment` (txndate , ref, debit, credit, balance, remark) VALUES (\"12/04/2021\", \"099MNIP211020SAx\", \"0.0\", \"20000.0\", \"930205.33\", \"NAGU ISAAC \")\n",
      "INSERT INTO `statment` (txndate , ref, debit, credit, balance, remark) VALUES (\"12/04/2021\", \"099MNIP211021OLT\", \"0.0\", \"10000.0\", \"940205.33\", \"TECHBRIDGE CONSULTING LIMITED/COB TRF FROM \")\n",
      "INSERT INTO `statment` (txndate , ref, debit, credit, balance, remark) VALUES (\"12/04/2021\", \"099MJKL211021lP9\", \"5010.75\", \"0.0\", \"935194.58\", \"TRF/Upkeep/FRM John  etim TO  \")\n",
      "INSERT INTO `statment` (txndate , ref, debit, credit, balance, remark) VALUES (\"12/04/2021\", \"099MJKL21102BELc\", \"2660.75\", \"0.0\", \"932533.83\", \"USSD_NIP/John  \")\n",
      "INSERT INTO `statment` (txndate , ref, debit, credit, balance, remark) VALUES (\"12/04/2021\", \"099MJKL21102E5FV\", \"2510.75\", \"0.0\", \"930023.08\", \"TRF/tunji oladej gift/FRM John  etim TO \")\n",
      "INSERT INTO `statment` (txndate , ref, debit, credit, balance, remark) VALUES (\"12/04/2021\", \"099MJKL21102Eg93\", \"10026.88\", \"0.0\", \"919996.2\", \"TRF/drug and soup/FRM John  etim TO \")\n",
      "INSERT INTO `statment` (txndate , ref, debit, credit, balance, remark) VALUES (\"12/04/2021\", \"099MJKL21102KM01\", \"6026.88\", \"0.0\", \"913969.32\", \"TRF/Savings/FRM John  etim TO  \")\n",
      "INSERT INTO `statment` (txndate , ref, debit, credit, balance, remark) VALUES (\"12/04/2021\", \"099MJKL21102OqK5\", \"1010.75\", \"0.0\", \"912958.57\", \"TRF/data n calls/FRM John  etim TO \")\n",
      "INSERT INTO `statment` (txndate , ref, debit, credit, balance, remark) VALUES (\"12/04/2021\", \"099MJKL21102obHZ\", \"1010.75\", \"0.0\", \"911947.82\", \"TRF/Data n airtime/FRM John  etim TO \")\n",
      "INSERT INTO `statment` (txndate , ref, debit, credit, balance, remark) VALUES (\"13/04/2021\", \"099ZTRF211031JTX\", \"0.0\", \"60000.0\", \"971947.82\", \"Principal Disbursement 099ILAT21103003S \")\n",
      "INSERT INTO `statment` (txndate , ref, debit, credit, balance, remark) VALUES (\"13/04/2021\", \"099ZTRF211031JU2\", \"45.0\", \"0.0\", \"971902.82\", \"VAT on Management Fee 099ILAT21103003S \")\n",
      "INSERT INTO `statment` (txndate , ref, debit, credit, balance, remark) VALUES (\"13/04/2021\", \"099ZTRF211031JU0\", \"600.0\", \"0.0\", \"971302.82\", \"Management Fee 099ILAT21103003S \")\n",
      "INSERT INTO `statment` (txndate , ref, debit, credit, balance, remark) VALUES (\"13/04/2021\", \"099ZTRF211031JTY\", \"300.0\", \"0.0\", \"971002.82\", \"Credit Life Insurance  099ILAT21103003S \")\n",
      "INSERT INTO `statment` (txndate , ref, debit, credit, balance, remark) VALUES (\"13/04/2021\", \"099MJKL211031Iu7\", \"40026.88\", \"0.0\", \"930975.94\", \"TRF/Car repairs/FRM John  etim TO \")\n",
      "INSERT INTO `statment` (txndate , ref, debit, credit, balance, remark) VALUES (\"13/04/2021\", \"071ZSTM2110300DV\", \"50.0\", \"0.0\", \"930925.94\", \"FGN ELECTRONIC MONEY TRANSFER LEVY\")\n",
      "INSERT INTO `statment` (txndate , ref, debit, credit, balance, remark) VALUES (\"14/04/2021\", \"099MJKL21104CoJa\", \"10026.88\", \"0.0\", \"920899.06\", \"TRF/Car fix oil/FRM John  etim TO \")\n",
      "INSERT INTO `statment` (txndate , ref, debit, credit, balance, remark) VALUES (\"15/04/2021\", \"099MJKL211051fMB\", \"1010.75\", \"0.0\", \"919888.31\", \"TRF/Data and airtime/FRM John  etim TO \")\n",
      "INSERT INTO `statment` (txndate , ref, debit, credit, balance, remark) VALUES (\"15/04/2021\", \"099ZTRF2110523L7\", \"0.0\", \"38000.0\", \"957888.31\", \"Principal Disbursement 099ILAT21105041C \")\n",
      "INSERT INTO `statment` (txndate , ref, debit, credit, balance, remark) VALUES (\"15/04/2021\", \"099ZTRF2110523LC\", \"28.5\", \"0.0\", \"957859.81\", \"VAT on Management Fee 099ILAT21105041C \")\n",
      "INSERT INTO `statment` (txndate , ref, debit, credit, balance, remark) VALUES (\"15/04/2021\", \"099ZTRF2110523LA\", \"380.0\", \"0.0\", \"957479.81\", \"Management Fee 099ILAT21105041C \")\n",
      "INSERT INTO `statment` (txndate , ref, debit, credit, balance, remark) VALUES (\"15/04/2021\", \"099ZTRF2110523L8\", \"190.0\", \"0.0\", \"957289.81\", \"Credit Life Insurance  099ILAT21105041C \")\n",
      "INSERT INTO `statment` (txndate , ref, debit, credit, balance, remark) VALUES (\"15/04/2021\", \"099MJKL211052hAj\", \"50026.88\", \"0.0\", \"907262.93\", \"TRF/Refund/FRM John  etim TO ISONG \")\n",
      "INSERT INTO `statment` (txndate , ref, debit, credit, balance, remark) VALUES (\"15/04/2021\", \"099MNIP211054Pgb\", \"0.0\", \"125000.0\", \"1032262.93\", \"WILLIAMS  OLAOLU OLUFEMIWILLIAMS OLAOLU \")\n"
     ]
    },
    {
     "name": "stdout",
     "output_type": "stream",
     "text": [
      "INSERT INTO `statment` (txndate , ref, debit, credit, balance, remark) VALUES (\"16/04/2021\", \"099MJKL211060BJ4\", \"1010.75\", \"0.0\", \"1031252.18\", \"TRF/data/FRM John  etim TO John\")\n",
      "INSERT INTO `statment` (txndate , ref, debit, credit, balance, remark) VALUES (\"16/04/2021\", \"099MJKL211061NCG\", \"10026.88\", \"0.0\", \"1021225.3\", \"TRF/upkeep/FRM John  etim TO etim\")\n",
      "INSERT INTO `statment` (txndate , ref, debit, credit, balance, remark) VALUES (\"16/04/2021\", \"099MJKL211066WC9\", \"10026.88\", \"0.0\", \"1011198.42\", \"TRF/Frontend/FRM John  etim TO \")\n",
      "INSERT INTO `statment` (txndate , ref, debit, credit, balance, remark) VALUES (\"16/04/2021\", \"099MJKL211068cug\", \"5010.75\", \"0.0\", \"1006187.67\", \"TRF/Car balance/FRM John  etim TO \")\n",
      "INSERT INTO `statment` (txndate , ref, debit, credit, balance, remark) VALUES (\"16/04/2021\", \"099MJKL21106APgb\", \"37026.88\", \"0.0\", \"969160.79\", \"TRF/Chair and table/FRM John  etim TO  \")\n",
      "INSERT INTO `statment` (txndate , ref, debit, credit, balance, remark) VALUES (\"16/04/2021\", \"099MNIP211063wHT\", \"0.0\", \"60000.0\", \"1029160.79\", \"etim John/TRF IFO etim K BO etim \")\n",
      "INSERT INTO `statment` (txndate , ref, debit, credit, balance, remark) VALUES (\"16/04/2021\", \"099MJKL21106H0MN\", \"3010.75\", \"0.0\", \"1026150.04\", \"TRF/Balance car/FRM John  etim TO \")\n",
      "INSERT INTO `statment` (txndate , ref, debit, credit, balance, remark) VALUES (\"16/04/2021\", \"099MJKL21106H5yh\", \"100053.75\", \"0.0\", \"926096.29\", \"TRF/balance wyre/FRM John  etim TO \")\n",
      "INSERT INTO `statment` (txndate , ref, debit, credit, balance, remark) VALUES (\"16/04/2021\", \"071ZSTM21106000K\", \"50.0\", \"0.0\", \"926046.29\", \"FGN ELECTRONIC MONEY TRANSFER LEVY\")\n",
      "INSERT INTO `statment` (txndate , ref, debit, credit, balance, remark) VALUES (\"19/04/2021\", \"099MJKL21109D6GD\", \"7026.88\", \"0.0\", \"919019.41\", \"USSD_NIP/John  etim/07XXXX9839/etim \")\n",
      "INSERT INTO `statment` (txndate , ref, debit, credit, balance, remark) VALUES (\"19/04/2021\", \"099MJKL21109IR4o\", \"1010.75\", \"0.0\", \"918008.66\", \"TRF/data and airtime/FRM John  etim TO \")\n",
      "INSERT INTO `statment` (txndate , ref, debit, credit, balance, remark) VALUES (\"19/04/2021\", \"099MJKL21109QP2H\", \"7026.88\", \"0.0\", \"910981.78\", \"USSD_NIP/John  etim/07XXXX9839/etim \")\n",
      "INSERT INTO `statment` (txndate , ref, debit, credit, balance, remark) VALUES (\"19/04/2021\", \"099MJKL21109R1Z0\", \"4010.75\", \"0.0\", \"906971.03\", \"USSD_NIP/John  etim/07XXXX9839/etim \")\n",
      "INSERT INTO `statment` (txndate , ref, debit, credit, balance, remark) VALUES (\"19/04/2021\", \"099MJKL21109t3Dg\", \"0.0\", \"35000.0\", \"941971.03\", \"olaolu\")\n",
      "INSERT INTO `statment` (txndate , ref, debit, credit, balance, remark) VALUES (\"19/04/2021\", \"099MJKL21109t4Ez\", \"35026.88\", \"0.0\", \"906944.15\", \"TRF/Olaolu/FRM John  etim TO WILLIAMS \")\n",
      "INSERT INTO `statment` (txndate , ref, debit, credit, balance, remark) VALUES (\"20/04/2021\", \"099MJKL21109uN0V\", \"500.0\", \"0.0\", \"906444.15\", \"901Airtime- 2348031346306 \")\n",
      "INSERT INTO `statment` (txndate , ref, debit, credit, balance, remark) VALUES (\"20/04/2021\", \"099MJKL21109uI7D\", \"100.0\", \"0.0\", \"906344.15\", \"901Airtime- 2348031346306 \")\n",
      "INSERT INTO `statment` (txndate , ref, debit, credit, balance, remark) VALUES (\"20/04/2021\", \"099MJKL21109uI1V\", \"400.0\", \"0.0\", \"905944.15\", \"901Airtime- 2348031346306 \")\n",
      "INSERT INTO `statment` (txndate , ref, debit, credit, balance, remark) VALUES (\"20/04/2021\", \"099MJKL21110BrPw\", \"500.0\", \"0.0\", \"905444.15\", \"901Airtime- 2348031346306 \")\n",
      "INSERT INTO `statment` (txndate , ref, debit, credit, balance, remark) VALUES (\"20/04/2021\", \"099MJKL21110FTD6\", \"100.0\", \"0.0\", \"905344.15\", \"901Airtime- 2348031346306 \")\n",
      "INSERT INTO `statment` (txndate , ref, debit, credit, balance, remark) VALUES (\"22/04/2021\", \"099MJKL211124vNy\", \"100.0\", \"0.0\", \"905244.15\", \"901Airtime- 2348031346306 \")\n",
      "INSERT INTO `statment` (txndate , ref, debit, credit, balance, remark) VALUES (\"23/04/2021\", \"099MNIP211130d0Z\", \"0.0\", \"50000.0\", \"955244.15\", \"etim John/FT IFO etim BO etim K\")\n",
      "INSERT INTO `statment` (txndate , ref, debit, credit, balance, remark) VALUES (\"23/04/2021\", \"099MJKL211132hdR\", \"10026.88\", \"0.0\", \"945217.27\", \"TRF/Refund/FRM John  etim TO ISONG \")\n",
      "INSERT INTO `statment` (txndate , ref, debit, credit, balance, remark) VALUES (\"23/04/2021\", \"099MJKL211132lwd\", \"10026.88\", \"0.0\", \"935190.39\", \"TRF/Upkeep/FRM John  etim TO  \")\n",
      "INSERT INTO `statment` (txndate , ref, debit, credit, balance, remark) VALUES (\"23/04/2021\", \"099MJKL211134GVZ\", \"30026.88\", \"0.0\", \"905163.51\", \"TRF/Contribution/FRM John  etim TO  \")\n",
      "INSERT INTO `statment` (txndate , ref, debit, credit, balance, remark) VALUES (\"23/04/2021\", \"099MNIP211133U7o\", \"0.0\", \"40000.0\", \"945163.51\", \"WILLIAMS  OLAOLU OLUFEMIWILLIAMS OLAOLU \")\n"
     ]
    }
   ],
   "source": [
    "for index, row in data.iterrows(): # loop through rows of pandas dataframe\n",
    "\n",
    "    date = row['Txn Date']\n",
    "    ref = row['Ref No']\n",
    "    debits = row['Withdrawls']\n",
    "    credits = row['Lodgements']\n",
    "    balance = row['Balance'],\n",
    "    remark = row['Description']\n",
    "    \n",
    "    write_to_db2(date, ref, debits, credits, balance, remark)"
   ]
  },
  {
   "cell_type": "code",
   "execution_count": 69,
   "metadata": {
    "ExecuteTime": {
     "end_time": "2021-05-29T14:39:50.778248Z",
     "start_time": "2021-05-29T14:39:50.765246Z"
    }
   },
   "outputs": [
    {
     "data": {
      "text/plain": [
       "Index(['Txn Date', 'Date', 'Ref No', 'Withdrawls', 'Lodgements', 'Balance',\n",
       "       'Description', 'Unnamed: 7', 'Unnamed: 8'],\n",
       "      dtype='object')"
      ]
     },
     "execution_count": 69,
     "metadata": {},
     "output_type": "execute_result"
    }
   ],
   "source": [
    "data.columns # THIS RETURNS ALL COLUMN NAMES IN DATAFRAME"
   ]
  }
 ],
 "metadata": {
  "hide_input": false,
  "kernelspec": {
   "display_name": "Python 3",
   "language": "python",
   "name": "python3"
  },
  "language_info": {
   "codemirror_mode": {
    "name": "ipython",
    "version": 3
   },
   "file_extension": ".py",
   "mimetype": "text/x-python",
   "name": "python",
   "nbconvert_exporter": "python",
   "pygments_lexer": "ipython3",
   "version": "3.7.8"
  },
  "varInspector": {
   "cols": {
    "lenName": 16,
    "lenType": 16,
    "lenVar": 40
   },
   "kernels_config": {
    "python": {
     "delete_cmd_postfix": "",
     "delete_cmd_prefix": "del ",
     "library": "var_list.py",
     "varRefreshCmd": "print(var_dic_list())"
    },
    "r": {
     "delete_cmd_postfix": ") ",
     "delete_cmd_prefix": "rm(",
     "library": "var_list.r",
     "varRefreshCmd": "cat(var_dic_list()) "
    }
   },
   "types_to_exclude": [
    "module",
    "function",
    "builtin_function_or_method",
    "instance",
    "_Feature"
   ],
   "window_display": false
  }
 },
 "nbformat": 4,
 "nbformat_minor": 4
}
