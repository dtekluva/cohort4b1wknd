{
 "cells": [
  {
   "cell_type": "code",
   "execution_count": 7,
   "metadata": {
    "ExecuteTime": {
     "end_time": "2021-05-29T10:36:08.952763Z",
     "start_time": "2021-05-29T10:36:08.940764Z"
    },
    "scrolled": true
   },
   "outputs": [],
   "source": [
    "# !pip install pymysql"
   ]
  },
  {
   "cell_type": "code",
   "execution_count": 8,
   "metadata": {
    "ExecuteTime": {
     "end_time": "2021-05-29T10:36:10.572925Z",
     "start_time": "2021-05-29T10:36:10.565924Z"
    }
   },
   "outputs": [],
   "source": [
    "# !pip install jupyterthemes"
   ]
  },
  {
   "cell_type": "code",
   "execution_count": 9,
   "metadata": {
    "ExecuteTime": {
     "end_time": "2021-05-29T10:36:13.967602Z",
     "start_time": "2021-05-29T10:36:13.953610Z"
    }
   },
   "outputs": [],
   "source": [
    "# !jt -l"
   ]
  },
  {
   "cell_type": "code",
   "execution_count": 10,
   "metadata": {
    "ExecuteTime": {
     "end_time": "2021-05-29T10:36:15.835689Z",
     "start_time": "2021-05-29T10:36:15.821684Z"
    }
   },
   "outputs": [],
   "source": [
    "# !jt -t chesterish"
   ]
  },
  {
   "cell_type": "code",
   "execution_count": 19,
   "metadata": {
    "ExecuteTime": {
     "end_time": "2021-05-29T11:43:58.394552Z",
     "start_time": "2021-05-29T11:43:58.366554Z"
    }
   },
   "outputs": [
    {
     "name": "stdout",
     "output_type": "stream",
     "text": [
      "INSERT INTO `users` (username, name, age, nation) VALUES (\"vincent\", \"vincent mancini\", \"34\", \"Italia\")\n"
     ]
    }
   ],
   "source": [
    "import pymysql.cursors\n",
    "\n",
    "# Connect to the database\n",
    "connection = pymysql.connect(host='localhost',\n",
    "                             user='root',\n",
    "                             password='',\n",
    "                             database='test',\n",
    "                             cursorclass=pymysql.cursors.DictCursor)\n",
    "\n",
    "with connection:\n",
    "    with connection.cursor() as cursor:\n",
    "        \n",
    "        username = \"vincent\"\n",
    "        name = \"vincent mancini\"\n",
    "        age = 34\n",
    "        nation = \"Italia\"\n",
    "        \n",
    "        # Create a new record\n",
    "        sql = f'INSERT INTO `users` (username, name, age, nation) VALUES (\"{username}\", \"{name}\", \"{age}\", \"{nation}\")'\n",
    "        print(sql)\n",
    "        cursor.execute(sql)\n",
    "\n",
    "    # connection is not autocommit by default. So you must commit to save\n",
    "    # your changes.\n",
    "    connection.commit()"
   ]
  },
  {
   "cell_type": "code",
   "execution_count": 22,
   "metadata": {
    "ExecuteTime": {
     "end_time": "2021-05-29T11:57:40.395492Z",
     "start_time": "2021-05-29T11:57:40.384490Z"
    }
   },
   "outputs": [],
   "source": [
    "# import pymysql.cursors\n",
    "\n",
    "# # Connect to the database\n",
    "# connection = pymysql.connect(host='localhost',\n",
    "#                              user='root',\n",
    "#                              password='',\n",
    "#                              database='test',\n",
    "#                              cursorclass=pymysql.cursors.DictCursor)\n",
    "\n",
    "# with connection:\n",
    "#     with connection.cursor() as cursor:\n",
    "        \n",
    "#         username = \"vincent\"\n",
    "#         name = \"vincent mancini\"\n",
    "#         age = 34\n",
    "#         nation = \"Italia\"\n",
    "        \n",
    "#         for i in range(30):\n",
    "#             # Create a new record\n",
    "#             sql = f'INSERT INTO `users` (username, name, age, nation) VALUES (\"{username}\", \"{name}\", \"{age}\", \"{nation}\")'\n",
    "#             print(sql)\n",
    "#             cursor.execute(sql)\n",
    "\n",
    "#     # connection is not autocommit by default. So you must commit to save\n",
    "#     # your changes.\n",
    "#     connection.commit()"
   ]
  },
  {
   "cell_type": "code",
   "execution_count": 40,
   "metadata": {
    "ExecuteTime": {
     "end_time": "2021-05-29T13:41:38.940737Z",
     "start_time": "2021-05-29T13:41:38.916740Z"
    }
   },
   "outputs": [
    {
     "name": "stdout",
     "output_type": "stream",
     "text": [
      "[{'name': 'John'}, {'name': 'Ahmed'}, {'name': 'Miller'}]\n"
     ]
    }
   ],
   "source": [
    "import pymysql.cursors\n",
    "\n",
    "# Connect to the database\n",
    "connection = pymysql.connect(host='localhost',\n",
    "                             user='root',\n",
    "                             password='',\n",
    "                             database='test',\n",
    "                             cursorclass=pymysql.cursors.DictCursor)\n",
    "\n",
    "with connection:\n",
    "\n",
    "    with connection.cursor() as cursor:\n",
    "        # Read a single record\n",
    "        sql = \"SELECT name FROM users\"\n",
    "        cursor.execute(sql)\n",
    "#         result = cursor.fetchone() # FETCH ONE VALUE ONLY\n",
    "        result = cursor.fetchmany(3)# FETCH MANY VALUES AT A TIME\n",
    "        print(result)"
   ]
  },
  {
   "cell_type": "code",
   "execution_count": 30,
   "metadata": {
    "ExecuteTime": {
     "end_time": "2021-05-29T13:26:09.942105Z",
     "start_time": "2021-05-29T13:26:09.925103Z"
    }
   },
   "outputs": [],
   "source": [
    "names = [\"x\", \"y\", \"z\"]\n",
    "ages = [20, 32, 29]\n",
    "usernames = [\"x1\", \"x2\", \"x3\"]\n",
    "nations = [\"NG\", \"US\", \"AU\"]"
   ]
  },
  {
   "cell_type": "code",
   "execution_count": 32,
   "metadata": {
    "ExecuteTime": {
     "end_time": "2021-05-29T13:27:10.287114Z",
     "start_time": "2021-05-29T13:27:10.263105Z"
    }
   },
   "outputs": [
    {
     "data": {
      "text/plain": [
       "[('x', 20, 'x1', 'NG'), ('y', 32, 'x2', 'US'), ('z', 29, 'x3', 'AU')]"
      ]
     },
     "execution_count": 32,
     "metadata": {},
     "output_type": "execute_result"
    }
   ],
   "source": [
    "list(zip(names, ages, usernames, nations))"
   ]
  },
  {
   "cell_type": "code",
   "execution_count": 37,
   "metadata": {
    "ExecuteTime": {
     "end_time": "2021-05-29T13:34:04.894772Z",
     "start_time": "2021-05-29T13:34:04.868768Z"
    }
   },
   "outputs": [],
   "source": [
    "import pymysql.cursors\n",
    "\n",
    "def write_to_db(username, name, age, nation):\n",
    "\n",
    "    # Connect to the database\n",
    "    connection = pymysql.connect(host='localhost',\n",
    "                                 user='root',\n",
    "                                 password='',\n",
    "                                 database='test',\n",
    "                                 cursorclass=pymysql.cursors.DictCursor)\n",
    "\n",
    "    with connection:\n",
    "        with connection.cursor() as cursor:\n",
    "\n",
    "            # Create a new record\n",
    "            sql = f'INSERT INTO `users` (username, name, age, nation) VALUES (\"{username}\", \"{name}\", \"{age}\", \"{nation}\")'\n",
    "            print(sql)\n",
    "            cursor.execute(sql) # EXECUTE COMMAND\n",
    "\n",
    "        # connection is not autocommit by default. So you must commit to save\n",
    "        # your changes.\n",
    "        connection.commit()"
   ]
  },
  {
   "cell_type": "code",
   "execution_count": 39,
   "metadata": {
    "ExecuteTime": {
     "end_time": "2021-05-29T13:36:11.299019Z",
     "start_time": "2021-05-29T13:36:11.254034Z"
    }
   },
   "outputs": [
    {
     "name": "stdout",
     "output_type": "stream",
     "text": [
      "x x1 20 NG\n",
      "INSERT INTO `users` (username, name, age, nation) VALUES (\"x1\", \"x\", \"20\", \"NG\")\n",
      "y x2 32 US\n",
      "INSERT INTO `users` (username, name, age, nation) VALUES (\"x2\", \"y\", \"32\", \"US\")\n",
      "z x3 29 AU\n",
      "INSERT INTO `users` (username, name, age, nation) VALUES (\"x3\", \"z\", \"29\", \"AU\")\n"
     ]
    }
   ],
   "source": [
    "for  name, age, username, nation in zip(names, ages, usernames, nations): # LOOP THROUGH ZIPPED ITEMS ( REMEMBER ZIP() MAKES THE ITEMS INTO A MATCHED TUPLE FOR EACH LIST ENTRY)\n",
    "    \n",
    "    print(name, username, age, nation)\n",
    "    write_to_db(username, name, age, nation) # CALL THE WRITE FUNCTION TO TAKE THE PARAMETERS, COSTRUCT OUR COMMAND AND THEN WRITE THE DATA INTO OUR DATABASE."
   ]
  },
  {
   "cell_type": "code",
   "execution_count": null,
   "metadata": {},
   "outputs": [],
   "source": []
  }
 ],
 "metadata": {
  "hide_input": false,
  "kernelspec": {
   "display_name": "Python 3",
   "language": "python",
   "name": "python3"
  },
  "language_info": {
   "codemirror_mode": {
    "name": "ipython",
    "version": 3
   },
   "file_extension": ".py",
   "mimetype": "text/x-python",
   "name": "python",
   "nbconvert_exporter": "python",
   "pygments_lexer": "ipython3",
   "version": "3.7.8"
  },
  "varInspector": {
   "cols": {
    "lenName": 16,
    "lenType": 16,
    "lenVar": 40
   },
   "kernels_config": {
    "python": {
     "delete_cmd_postfix": "",
     "delete_cmd_prefix": "del ",
     "library": "var_list.py",
     "varRefreshCmd": "print(var_dic_list())"
    },
    "r": {
     "delete_cmd_postfix": ") ",
     "delete_cmd_prefix": "rm(",
     "library": "var_list.r",
     "varRefreshCmd": "cat(var_dic_list()) "
    }
   },
   "types_to_exclude": [
    "module",
    "function",
    "builtin_function_or_method",
    "instance",
    "_Feature"
   ],
   "window_display": false
  }
 },
 "nbformat": 4,
 "nbformat_minor": 4
}
